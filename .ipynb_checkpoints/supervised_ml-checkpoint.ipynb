{
 "cells": [
  {
   "cell_type": "markdown",
   "metadata": {},
   "source": [
    "---\n",
    "\n",
    "_You are currently looking at **version 1.1** of this notebook. To download notebooks and datafiles, as well as get help on Jupyter notebooks in the Coursera platform, visit the [Jupyter Notebook FAQ](https://www.coursera.org/learn/python-machine-learning/resources/bANLa) course resource._\n",
    "\n",
    "---"
   ]
  },
  {
   "cell_type": "markdown",
   "metadata": {},
   "source": [
    "## Assignment 4 - Understanding and Predicting Property Maintenance Fines\n",
    "\n",
    "This assignment is based on a data challenge from the Michigan Data Science Team ([MDST](http://midas.umich.edu/mdst/)). \n",
    "\n",
    "The Michigan Data Science Team ([MDST](http://midas.umich.edu/mdst/)) and the Michigan Student Symposium for Interdisciplinary Statistical Sciences ([MSSISS](https://sites.lsa.umich.edu/mssiss/)) have partnered with the City of Detroit to help solve one of the most pressing problems facing Detroit - blight. [Blight violations](http://www.detroitmi.gov/How-Do-I/Report/Blight-Complaint-FAQs) are issued by the city to individuals who allow their properties to remain in a deteriorated condition. Every year, the city of Detroit issues millions of dollars in fines to residents and every year, many of these fines remain unpaid. Enforcing unpaid blight fines is a costly and tedious process, so the city wants to know: how can we increase blight ticket compliance?\n",
    "\n",
    "The first step in answering this question is understanding when and why a resident might fail to comply with a blight ticket. This is where predictive modeling comes in. For this assignment, your task is to predict whether a given blight ticket will be paid on time.\n",
    "\n",
    "All data for this assignment has been provided to us through the [Detroit Open Data Portal](https://data.detroitmi.gov/). **Only the data already included in your Coursera directory can be used for training the model for this assignment.** Nonetheless, we encourage you to look into data from other Detroit datasets to help inform feature creation and model selection. We recommend taking a look at the following related datasets:\n",
    "\n",
    "* [Building Permits](https://data.detroitmi.gov/Property-Parcels/Building-Permits/xw2a-a7tf)\n",
    "* [Trades Permits](https://data.detroitmi.gov/Property-Parcels/Trades-Permits/635b-dsgv)\n",
    "* [Improve Detroit: Submitted Issues](https://data.detroitmi.gov/Government/Improve-Detroit-Submitted-Issues/fwz3-w3yn)\n",
    "* [DPD: Citizen Complaints](https://data.detroitmi.gov/Public-Safety/DPD-Citizen-Complaints-2016/kahe-efs3)\n",
    "* [Parcel Map](https://data.detroitmi.gov/Property-Parcels/Parcel-Map/fxkw-udwf)\n",
    "\n",
    "___\n",
    "\n",
    "We provide you with two data files for use in training and validating your models: train.csv and test.csv. Each row in these two files corresponds to a single blight ticket, and includes information about when, why, and to whom each ticket was issued. The target variable is compliance, which is True if the ticket was paid early, on time, or within one month of the hearing data, False if the ticket was paid after the hearing date or not at all, and Null if the violator was found not responsible. Compliance, as well as a handful of other variables that will not be available at test-time, are only included in train.csv.\n",
    "\n",
    "**Note: All tickets where the violators were found not responsible are not considered during evaluation. They are included in the training set as an additional source of data for visualization, and to enable unsupervised and semi-supervised approaches. However, they are not included in the test set.**\n",
    "\n",
    "<br>\n",
    "\n",
    "**File descriptions** (Use only this data for training your model!)\n",
    "\n",
    "    readonly/train.csv - the training set (all tickets issued 2004-2011)\n",
    "    readonly/test.csv - the test set (all tickets issued 2012-2016)\n",
    "    readonly/addresses.csv & readonly/latlons.csv - mapping from ticket id to addresses, and from addresses to lat/lon coordinates. \n",
    "     Note: misspelled addresses may be incorrectly geolocated.\n",
    "\n",
    "<br>\n",
    "\n",
    "**Data fields**\n",
    "\n",
    "train.csv & test.csv\n",
    "\n",
    "    ticket_id - unique identifier for tickets\n",
    "    agency_name - Agency that issued the ticket\n",
    "    inspector_name - Name of inspector that issued the ticket\n",
    "    violator_name - Name of the person/organization that the ticket was issued to\n",
    "    violation_street_number, violation_street_name, violation_zip_code - Address where the violation occurred\n",
    "    mailing_address_str_number, mailing_address_str_name, city, state, zip_code, non_us_str_code, country - Mailing address of the violator\n",
    "    ticket_issued_date - Date and time the ticket was issued\n",
    "    hearing_date - Date and time the violator's hearing was scheduled\n",
    "    violation_code, violation_description - Type of violation\n",
    "    disposition - Judgment and judgement type\n",
    "    fine_amount - Violation fine amount, excluding fees\n",
    "    admin_fee - $20 fee assigned to responsible judgments\n",
    "state_fee - $10 fee assigned to responsible judgments\n",
    "    late_fee - 10% fee assigned to responsible judgments\n",
    "    discount_amount - discount applied, if any\n",
    "    clean_up_cost - DPW clean-up or graffiti removal cost\n",
    "    judgment_amount - Sum of all fines and fees\n",
    "    grafitti_status - Flag for graffiti violations\n",
    "    \n",
    "train.csv only\n",
    "\n",
    "    payment_amount - Amount paid, if any\n",
    "    payment_date - Date payment was made, if it was received\n",
    "    payment_status - Current payment status as of Feb 1 2017\n",
    "    balance_due - Fines and fees still owed\n",
    "    collection_status - Flag for payments in collections\n",
    "    compliance [target variable for prediction] \n",
    "     Null = Not responsible\n",
    "     0 = Responsible, non-compliant\n",
    "     1 = Responsible, compliant\n",
    "    compliance_detail - More information on why each ticket was marked compliant or non-compliant\n",
    "\n",
    "\n",
    "___\n",
    "\n",
    "## Evaluation\n",
    "\n",
    "Your predictions will be given as the probability that the corresponding blight ticket will be paid on time.\n",
    "\n",
    "**The evaluation metric for this assignment is the Area Under the ROC Curve (AUC).** \n",
    "\n",
    "**Your grade will be based on the AUC score computed for your classifier. A model which with an AUROC of 0.7 passes this assignment, over 0.75 will recieve full points.**\n",
    "___\n",
    "\n",
    "For this assignment, create a function that trains a model to predict blight ticket compliance in Detroit using `readonly/train.csv`. Using this model, **return a series of length 61001 with the data being the probability that each corresponding ticket from `readonly/test.csv` will be paid, and the index being the ticket_id.**\n",
    "\n",
    "Example:\n",
    "\n",
    "    ticket_id\n",
    "       284932    0.531842\n",
    "       285362    0.401958\n",
    "       285361    0.105928\n",
    "       285338    0.018572\n",
    "                 ...\n",
    "       376499    0.208567\n",
    "       376500    0.818759\n",
    "       369851    0.018528\n",
    "       Name: compliance, dtype: float32\n",
    "       \n",
    "### Hints\n",
    "\n",
    "* Make sure your code is working before submitting it to the autograder.\n",
    "\n",
    "* Print out your result to see whether there is anything weird (e.g., all probabilities are the same).\n",
    "\n",
    "* Generally the total runtime should be less than 10 mins. You should NOT use Neural Network related classifiers (e.g., MLPClassifier) in this question. \n",
    "\n",
    "* Try to avoid global variables. If you have other functions besides blight_model, you should move those functions inside the scope of blight_model.\n",
    "\n",
    "* Refer to the pinned threads in Week 4's discussion forum when there is something you could not figure it out."
   ]
  },
  {
   "cell_type": "markdown",
   "metadata": {},
   "source": [
    "## ROC Curve and Area Under the Curve (AUC) Explained\n",
    "\n",
    "- Used to visualize the performance of a binary classifier.\n",
    "- Use logistic regression to develop a prediction and probability of the likelihood of the prediction.\n",
    "<br><br>\n",
    "- ROC plots the the FPR on the x-axis and the TPR on the y-axis for every possible classification threshold.\n",
    "- TPR = True Positives / All Positives answers the question **When the actual classification is positive, how often does the model predict postive?**\n",
    "- FPR = False Positive / All Negatives answers the question **When the actual classification is negative, how often does the model incorrectly predict positive?**"
   ]
  },
  {
   "cell_type": "markdown",
   "metadata": {},
   "source": [
    "## Approach:\n",
    "\n",
    "- What features are most relevant?\n",
    "- Most likely need to map lattitude and longitude to blight-ticket compliance data.\n",
    "- How should I explore the data?\n",
    "- What to do with null compliant values?\n",
    "- Seems to be a relationship between judgement_amount and compliance\n",
    "- How does location play a role?"
   ]
  },
  {
   "cell_type": "markdown",
   "metadata": {},
   "source": [
    "### Notes\n",
    "\n",
    "**Tranforming String Objects to Quantitative Data**\n",
    "- Use `LabelEncoder` or `OneHotEncoder` to translate categorical features to numerical values to use with sklearn.\n",
    "- `LabelEncoder` assigns laber a with a value between 0 and n_classes-1. n is the # of distinct labels.\n",
    "- When use `LabelEcoder` to transform to numerical value, must inform model that the numerical values are categorical. Do not want the model to assume correlations when not appropriate.\n",
    "- By using `OneHotEncoder`, I can prevent the model from believing that the new numerical values are hiearchical.\n",
    "- `OneHotEncoder` takes the econded columnas and divides it into multiple columns assigning 1s and 0s to the columns, depending on the columns' values.\n"
   ]
  },
  {
   "cell_type": "markdown",
   "metadata": {},
   "source": [
    "## IMPORTANT CONCLUSION\n",
    "\n",
    "- Calculate `y_prob`, **not** `y_pred`, by using `predict_proba()`, **not** `predict()`.\n",
    "- Adjust `y_prob` when calculating FPR and TPR - `roc_curve(y_test, y_prob[:,1])`.\n",
    "- Use `[:,1]` b/c `predict_proba()` returns a probability matrix of dimension (N,2). The first index refers to the probability that the data belong to class 0, and the second refers to the probability that the data belong to class 1.\n",
    "- FPR and TPR are used to calculate AUC."
   ]
  },
  {
   "cell_type": "code",
   "execution_count": 1,
   "metadata": {},
   "outputs": [
    {
     "name": "stdout",
     "output_type": "stream",
     "text": [
      "Collecting pip\n",
      "\u001b[?25l  Downloading https://files.pythonhosted.org/packages/43/84/23ed6a1796480a6f1a2d38f2802901d078266bda38388954d01d3f2e821d/pip-20.1.1-py2.py3-none-any.whl (1.5MB)\n",
      "\u001b[K    100% |████████████████████████████████| 1.5MB 10.8MB/s ta 0:00:01\n",
      "\u001b[?25hInstalling collected packages: pip\n",
      "  Found existing installation: pip 10.0.1\n",
      "    Uninstalling pip-10.0.1:\n",
      "      Successfully uninstalled pip-10.0.1\n",
      "Successfully installed pip-20.1.1\n",
      "\u001b[33mYou are using pip version 20.1.1, however version 20.2b1 is available.\n",
      "You should consider upgrading via the 'pip install --upgrade pip' command.\u001b[0m\n",
      "Collecting imbalanced-learn\n",
      "  Downloading imbalanced_learn-0.7.0-py3-none-any.whl (167 kB)\n",
      "\u001b[K     |████████████████████████████████| 167 kB 4.2 MB/s eta 0:00:01\n",
      "\u001b[?25hRequirement already satisfied: scipy>=0.19.1 in /home/ec2-user/anaconda3/envs/python3/lib/python3.6/site-packages (from imbalanced-learn) (1.1.0)\n",
      "Requirement already satisfied: numpy>=1.13.3 in /home/ec2-user/anaconda3/envs/python3/lib/python3.6/site-packages (from imbalanced-learn) (1.14.3)\n",
      "Collecting joblib>=0.11\n",
      "  Downloading joblib-0.15.1-py3-none-any.whl (298 kB)\n",
      "\u001b[K     |████████████████████████████████| 298 kB 14.0 MB/s eta 0:00:01\n",
      "\u001b[?25hCollecting scikit-learn>=0.23\n",
      "  Downloading scikit_learn-0.23.1-cp36-cp36m-manylinux1_x86_64.whl (6.8 MB)\n",
      "\u001b[K     |████████████████████████████████| 6.8 MB 10.4 MB/s eta 0:00:01\n",
      "\u001b[?25hCollecting threadpoolctl>=2.0.0\n",
      "  Downloading threadpoolctl-2.1.0-py3-none-any.whl (12 kB)\n",
      "Installing collected packages: joblib, threadpoolctl, scikit-learn, imbalanced-learn\n",
      "  Attempting uninstall: scikit-learn\n",
      "    Found existing installation: scikit-learn 0.20.3\n",
      "    Uninstalling scikit-learn-0.20.3:\n",
      "      Successfully uninstalled scikit-learn-0.20.3\n",
      "Successfully installed imbalanced-learn-0.7.0 joblib-0.15.1 scikit-learn-0.23.1 threadpoolctl-2.1.0\n",
      "Collecting xgboost\n",
      "  Downloading xgboost-1.1.1-py3-none-manylinux2010_x86_64.whl (127.6 MB)\n",
      "\u001b[K     |████████████████████████████████| 127.6 MB 19 kB/s s eta 0:00:01 | 64.8 MB 60.8 MB/s eta 0:00:02   | 78.7 MB 60.8 MB/s eta 0:00:01��█████████████▏    | 108.3 MB 60.8 MB/s eta 0:00:01\n",
      "\u001b[?25hRequirement already satisfied: scipy in /home/ec2-user/anaconda3/envs/python3/lib/python3.6/site-packages (from xgboost) (1.1.0)\n",
      "Requirement already satisfied: numpy in /home/ec2-user/anaconda3/envs/python3/lib/python3.6/site-packages (from xgboost) (1.14.3)\n",
      "Installing collected packages: xgboost\n",
      "Successfully installed xgboost-1.1.1\n"
     ]
    }
   ],
   "source": [
    "!pip install --upgrade pip\n",
    "# !pip install --upgrade sklearn\n",
    "!pip install imbalanced-learn\n",
    "!pip install xgboost"
   ]
  },
  {
   "cell_type": "code",
   "execution_count": 2,
   "metadata": {},
   "outputs": [
    {
     "name": "stderr",
     "output_type": "stream",
     "text": [
      "/home/ec2-user/anaconda3/envs/python3/lib/python3.6/site-packages/distributed/config.py:63: YAMLLoadWarning: calling yaml.load() without Loader=... is deprecated, as the default Loader is unsafe. Please read https://msg.pyyaml.org/load for full details.\n",
      "  config.update(yaml.load(text) or {})\n"
     ]
    }
   ],
   "source": [
    "import pandas as pd\n",
    "import numpy as np\n",
    "import matplotlib.pyplot as plt\n",
    "%matplotlib inline\n",
    "from pandas.plotting import scatter_matrix\n",
    "import seaborn as sns\n",
    "\n",
    "\n",
    "from sklearn.model_selection import train_test_split, RandomizedSearchCV, KFold, cross_val_score\n",
    "from sklearn.preprocessing import MinMaxScaler\n",
    "from sklearn.metrics import roc_auc_score, auc, confusion_matrix, f1_score, classification_report, roc_curve, precision_recall_curve\n",
    "from sklearn.inspection import permutation_importance\n",
    "\n",
    "from sklearn.linear_model import LogisticRegression\n",
    "from sklearn.ensemble import GradientBoostingClassifier, RandomForestClassifier \n",
    "from xgboost import XGBClassifier\n",
    "\n",
    "from imblearn.under_sampling import RandomUnderSampler, CondensedNearestNeighbour, TomekLinks\n",
    "from imblearn.over_sampling import RandomOverSampler\n",
    "\n",
    "from scipy import stats"
   ]
  },
  {
   "cell_type": "code",
   "execution_count": null,
   "metadata": {},
   "outputs": [],
   "source": []
  },
  {
   "cell_type": "markdown",
   "metadata": {},
   "source": [
    "---\n",
    "# Data Import and Processing\n"
   ]
  },
  {
   "cell_type": "code",
   "execution_count": 3,
   "metadata": {},
   "outputs": [],
   "source": [
    "train = pd.read_csv('data/train.csv', engine='python')\n",
    "test = pd.read_csv('data/test.csv', engine='python')\n",
    "address = pd.read_csv('data/addresses.csv', engine='python')\n",
    "lat_lons = pd.read_csv('data/latlons.csv', engine='python')"
   ]
  },
  {
   "cell_type": "code",
   "execution_count": 4,
   "metadata": {},
   "outputs": [
    {
     "data": {
      "text/html": [
       "<div>\n",
       "<style scoped>\n",
       "    .dataframe tbody tr th:only-of-type {\n",
       "        vertical-align: middle;\n",
       "    }\n",
       "\n",
       "    .dataframe tbody tr th {\n",
       "        vertical-align: top;\n",
       "    }\n",
       "\n",
       "    .dataframe thead th {\n",
       "        text-align: right;\n",
       "    }\n",
       "</style>\n",
       "<table border=\"1\" class=\"dataframe\">\n",
       "  <thead>\n",
       "    <tr style=\"text-align: right;\">\n",
       "      <th></th>\n",
       "      <th>ticket_id</th>\n",
       "      <th>address</th>\n",
       "    </tr>\n",
       "  </thead>\n",
       "  <tbody>\n",
       "    <tr>\n",
       "      <th>0</th>\n",
       "      <td>22056</td>\n",
       "      <td>2900 tyler, Detroit MI</td>\n",
       "    </tr>\n",
       "    <tr>\n",
       "      <th>1</th>\n",
       "      <td>27586</td>\n",
       "      <td>4311 central, Detroit MI</td>\n",
       "    </tr>\n",
       "    <tr>\n",
       "      <th>2</th>\n",
       "      <td>22062</td>\n",
       "      <td>1449 longfellow, Detroit MI</td>\n",
       "    </tr>\n",
       "    <tr>\n",
       "      <th>3</th>\n",
       "      <td>22084</td>\n",
       "      <td>1441 longfellow, Detroit MI</td>\n",
       "    </tr>\n",
       "    <tr>\n",
       "      <th>4</th>\n",
       "      <td>22093</td>\n",
       "      <td>2449 churchill, Detroit MI</td>\n",
       "    </tr>\n",
       "  </tbody>\n",
       "</table>\n",
       "</div>"
      ],
      "text/plain": [
       "   ticket_id                      address\n",
       "0      22056       2900 tyler, Detroit MI\n",
       "1      27586     4311 central, Detroit MI\n",
       "2      22062  1449 longfellow, Detroit MI\n",
       "3      22084  1441 longfellow, Detroit MI\n",
       "4      22093   2449 churchill, Detroit MI"
      ]
     },
     "execution_count": 4,
     "metadata": {},
     "output_type": "execute_result"
    }
   ],
   "source": [
    "address.head()"
   ]
  },
  {
   "cell_type": "code",
   "execution_count": 5,
   "metadata": {},
   "outputs": [
    {
     "data": {
      "text/html": [
       "<div>\n",
       "<style scoped>\n",
       "    .dataframe tbody tr th:only-of-type {\n",
       "        vertical-align: middle;\n",
       "    }\n",
       "\n",
       "    .dataframe tbody tr th {\n",
       "        vertical-align: top;\n",
       "    }\n",
       "\n",
       "    .dataframe thead th {\n",
       "        text-align: right;\n",
       "    }\n",
       "</style>\n",
       "<table border=\"1\" class=\"dataframe\">\n",
       "  <thead>\n",
       "    <tr style=\"text-align: right;\">\n",
       "      <th></th>\n",
       "      <th>address</th>\n",
       "      <th>lat</th>\n",
       "      <th>lon</th>\n",
       "    </tr>\n",
       "  </thead>\n",
       "  <tbody>\n",
       "    <tr>\n",
       "      <th>0</th>\n",
       "      <td>4300 rosa parks blvd, Detroit MI 48208</td>\n",
       "      <td>42.346169</td>\n",
       "      <td>-83.079962</td>\n",
       "    </tr>\n",
       "    <tr>\n",
       "      <th>1</th>\n",
       "      <td>14512 sussex, Detroit MI</td>\n",
       "      <td>42.394657</td>\n",
       "      <td>-83.194265</td>\n",
       "    </tr>\n",
       "    <tr>\n",
       "      <th>2</th>\n",
       "      <td>3456 garland, Detroit MI</td>\n",
       "      <td>42.373779</td>\n",
       "      <td>-82.986228</td>\n",
       "    </tr>\n",
       "    <tr>\n",
       "      <th>3</th>\n",
       "      <td>5787 wayburn, Detroit MI</td>\n",
       "      <td>42.403342</td>\n",
       "      <td>-82.957805</td>\n",
       "    </tr>\n",
       "    <tr>\n",
       "      <th>4</th>\n",
       "      <td>5766 haverhill, Detroit MI</td>\n",
       "      <td>42.407255</td>\n",
       "      <td>-82.946295</td>\n",
       "    </tr>\n",
       "  </tbody>\n",
       "</table>\n",
       "</div>"
      ],
      "text/plain": [
       "                                  address        lat        lon\n",
       "0  4300 rosa parks blvd, Detroit MI 48208  42.346169 -83.079962\n",
       "1                14512 sussex, Detroit MI  42.394657 -83.194265\n",
       "2                3456 garland, Detroit MI  42.373779 -82.986228\n",
       "3                5787 wayburn, Detroit MI  42.403342 -82.957805\n",
       "4              5766 haverhill, Detroit MI  42.407255 -82.946295"
      ]
     },
     "execution_count": 5,
     "metadata": {},
     "output_type": "execute_result"
    }
   ],
   "source": [
    "lat_lons.head()"
   ]
  },
  {
   "cell_type": "code",
   "execution_count": 6,
   "metadata": {},
   "outputs": [
    {
     "data": {
      "image/png": "[encoded data removed]",
      "text/plain": [
       "<Figure size 864x432 with 1 Axes>"
      ]
     },
     "metadata": {},
     "output_type": "display_data"
    }
   ],
   "source": [
    "plt.figure(figsize=(12,6))\n",
    "sns.heatmap(train.isnull(), yticklabels=False, cbar=False, cmap='viridis')\n",
    "plt.title('Train Data', fontsize=22)\n",
    "plt.tight_layout();"
   ]
  },
  {
   "cell_type": "code",
   "execution_count": 7,
   "metadata": {},
   "outputs": [
    {
     "data": {
      "text/html": [
       "<div>\n",
       "<style scoped>\n",
       "    .dataframe tbody tr th:only-of-type {\n",
       "        vertical-align: middle;\n",
       "    }\n",
       "\n",
       "    .dataframe tbody tr th {\n",
       "        vertical-align: top;\n",
       "    }\n",
       "\n",
       "    .dataframe thead th {\n",
       "        text-align: right;\n",
       "    }\n",
       "</style>\n",
       "<table border=\"1\" class=\"dataframe\">\n",
       "  <thead>\n",
       "    <tr style=\"text-align: right;\">\n",
       "      <th></th>\n",
       "      <th>ticket_id</th>\n",
       "      <th>agency_name</th>\n",
       "      <th>inspector_name</th>\n",
       "      <th>violator_name</th>\n",
       "      <th>violation_street_number</th>\n",
       "      <th>violation_street_name</th>\n",
       "      <th>violation_zip_code</th>\n",
       "      <th>mailing_address_str_number</th>\n",
       "      <th>mailing_address_str_name</th>\n",
       "      <th>city</th>\n",
       "      <th>...</th>\n",
       "      <th>violation_description</th>\n",
       "      <th>disposition</th>\n",
       "      <th>fine_amount</th>\n",
       "      <th>admin_fee</th>\n",
       "      <th>state_fee</th>\n",
       "      <th>late_fee</th>\n",
       "      <th>discount_amount</th>\n",
       "      <th>clean_up_cost</th>\n",
       "      <th>judgment_amount</th>\n",
       "      <th>grafitti_status</th>\n",
       "    </tr>\n",
       "  </thead>\n",
       "  <tbody>\n",
       "    <tr>\n",
       "      <th>0</th>\n",
       "      <td>284932</td>\n",
       "      <td>Department of Public Works</td>\n",
       "      <td>Granberry, Aisha B</td>\n",
       "      <td>FLUELLEN, JOHN A</td>\n",
       "      <td>10041.0</td>\n",
       "      <td>ROSEBERRY</td>\n",
       "      <td>NaN</td>\n",
       "      <td>141</td>\n",
       "      <td>ROSEBERRY</td>\n",
       "      <td>DETROIT</td>\n",
       "      <td>...</td>\n",
       "      <td>Failure to secure City or Private solid waste ...</td>\n",
       "      <td>Responsible by Default</td>\n",
       "      <td>200.0</td>\n",
       "      <td>20.0</td>\n",
       "      <td>10.0</td>\n",
       "      <td>20.0</td>\n",
       "      <td>0.0</td>\n",
       "      <td>0.0</td>\n",
       "      <td>250.0</td>\n",
       "      <td>NaN</td>\n",
       "    </tr>\n",
       "    <tr>\n",
       "      <th>1</th>\n",
       "      <td>285362</td>\n",
       "      <td>Department of Public Works</td>\n",
       "      <td>Lusk, Gertrina</td>\n",
       "      <td>WHIGHAM, THELMA</td>\n",
       "      <td>18520.0</td>\n",
       "      <td>EVERGREEN</td>\n",
       "      <td>NaN</td>\n",
       "      <td>19136</td>\n",
       "      <td>GLASTONBURY</td>\n",
       "      <td>DETROIT</td>\n",
       "      <td>...</td>\n",
       "      <td>Allowing bulk solid waste to lie or accumulate...</td>\n",
       "      <td>Responsible by Default</td>\n",
       "      <td>1000.0</td>\n",
       "      <td>20.0</td>\n",
       "      <td>10.0</td>\n",
       "      <td>100.0</td>\n",
       "      <td>0.0</td>\n",
       "      <td>0.0</td>\n",
       "      <td>1130.0</td>\n",
       "      <td>NaN</td>\n",
       "    </tr>\n",
       "  </tbody>\n",
       "</table>\n",
       "<p>2 rows × 27 columns</p>\n",
       "</div>"
      ],
      "text/plain": [
       "   ticket_id                 agency_name      inspector_name  \\\n",
       "0     284932  Department of Public Works  Granberry, Aisha B   \n",
       "1     285362  Department of Public Works      Lusk, Gertrina   \n",
       "\n",
       "      violator_name  violation_street_number violation_street_name  \\\n",
       "0  FLUELLEN, JOHN A                  10041.0             ROSEBERRY   \n",
       "1   WHIGHAM, THELMA                  18520.0             EVERGREEN   \n",
       "\n",
       "  violation_zip_code mailing_address_str_number mailing_address_str_name  \\\n",
       "0                NaN                        141                ROSEBERRY   \n",
       "1                NaN                      19136              GLASTONBURY   \n",
       "\n",
       "      city  ...                              violation_description  \\\n",
       "0  DETROIT  ...  Failure to secure City or Private solid waste ...   \n",
       "1  DETROIT  ...  Allowing bulk solid waste to lie or accumulate...   \n",
       "\n",
       "              disposition  fine_amount admin_fee state_fee late_fee  \\\n",
       "0  Responsible by Default        200.0      20.0      10.0     20.0   \n",
       "1  Responsible by Default       1000.0      20.0      10.0    100.0   \n",
       "\n",
       "  discount_amount clean_up_cost judgment_amount  grafitti_status  \n",
       "0             0.0           0.0           250.0              NaN  \n",
       "1             0.0           0.0          1130.0              NaN  \n",
       "\n",
       "[2 rows x 27 columns]"
      ]
     },
     "execution_count": 7,
     "metadata": {},
     "output_type": "execute_result"
    }
   ],
   "source": [
    "test.head(2)"
   ]
  },
  {
   "cell_type": "code",
   "execution_count": 8,
   "metadata": {},
   "outputs": [
    {
     "data": {
      "text/html": [
       "<div>\n",
       "<style scoped>\n",
       "    .dataframe tbody tr th:only-of-type {\n",
       "        vertical-align: middle;\n",
       "    }\n",
       "\n",
       "    .dataframe tbody tr th {\n",
       "        vertical-align: top;\n",
       "    }\n",
       "\n",
       "    .dataframe thead th {\n",
       "        text-align: right;\n",
       "    }\n",
       "</style>\n",
       "<table border=\"1\" class=\"dataframe\">\n",
       "  <thead>\n",
       "    <tr style=\"text-align: right;\">\n",
       "      <th></th>\n",
       "      <th>state</th>\n",
       "      <th>zip_code</th>\n",
       "      <th>non_us_str_code</th>\n",
       "      <th>country</th>\n",
       "      <th>ticket_issued_date</th>\n",
       "      <th>hearing_date</th>\n",
       "      <th>violation_code</th>\n",
       "      <th>violation_description</th>\n",
       "      <th>disposition</th>\n",
       "      <th>fine_amount</th>\n",
       "      <th>admin_fee</th>\n",
       "      <th>state_fee</th>\n",
       "      <th>late_fee</th>\n",
       "      <th>discount_amount</th>\n",
       "      <th>clean_up_cost</th>\n",
       "    </tr>\n",
       "  </thead>\n",
       "  <tbody>\n",
       "    <tr>\n",
       "      <th>0</th>\n",
       "      <td>MI</td>\n",
       "      <td>48213</td>\n",
       "      <td>NaN</td>\n",
       "      <td>USA</td>\n",
       "      <td>2012-01-04 14:00:00</td>\n",
       "      <td>2012-01-19 09:00:00</td>\n",
       "      <td>22-2-61</td>\n",
       "      <td>Failure to secure City or Private solid waste ...</td>\n",
       "      <td>Responsible by Default</td>\n",
       "      <td>200.0</td>\n",
       "      <td>20.0</td>\n",
       "      <td>10.0</td>\n",
       "      <td>20.0</td>\n",
       "      <td>0.0</td>\n",
       "      <td>0.0</td>\n",
       "    </tr>\n",
       "    <tr>\n",
       "      <th>1</th>\n",
       "      <td>MI</td>\n",
       "      <td>48219</td>\n",
       "      <td>NaN</td>\n",
       "      <td>USA</td>\n",
       "      <td>2012-01-05 09:50:00</td>\n",
       "      <td>2012-02-06 09:00:00</td>\n",
       "      <td>22-2-88(b)</td>\n",
       "      <td>Allowing bulk solid waste to lie or accumulate...</td>\n",
       "      <td>Responsible by Default</td>\n",
       "      <td>1000.0</td>\n",
       "      <td>20.0</td>\n",
       "      <td>10.0</td>\n",
       "      <td>100.0</td>\n",
       "      <td>0.0</td>\n",
       "      <td>0.0</td>\n",
       "    </tr>\n",
       "  </tbody>\n",
       "</table>\n",
       "</div>"
      ],
      "text/plain": [
       "  state zip_code  non_us_str_code country   ticket_issued_date  \\\n",
       "0    MI    48213              NaN     USA  2012-01-04 14:00:00   \n",
       "1    MI    48219              NaN     USA  2012-01-05 09:50:00   \n",
       "\n",
       "          hearing_date violation_code  \\\n",
       "0  2012-01-19 09:00:00        22-2-61   \n",
       "1  2012-02-06 09:00:00     22-2-88(b)   \n",
       "\n",
       "                               violation_description             disposition  \\\n",
       "0  Failure to secure City or Private solid waste ...  Responsible by Default   \n",
       "1  Allowing bulk solid waste to lie or accumulate...  Responsible by Default   \n",
       "\n",
       "   fine_amount  admin_fee  state_fee  late_fee  discount_amount  clean_up_cost  \n",
       "0        200.0       20.0       10.0      20.0              0.0            0.0  \n",
       "1       1000.0       20.0       10.0     100.0              0.0            0.0  "
      ]
     },
     "execution_count": 8,
     "metadata": {},
     "output_type": "execute_result"
    }
   ],
   "source": [
    "test.iloc[:,10:25].head(2)"
   ]
  },
  {
   "cell_type": "code",
   "execution_count": 9,
   "metadata": {},
   "outputs": [],
   "source": [
    "def plot_null_values(df, title):\n",
    "    plt.figure(figsize=(12,6))\n",
    "    sns.heatmap(df.isnull(), yticklabels=False, cbar=False, cmap='viridis')\n",
    "    plt.title(title, fontsize=22)\n",
    "    plt.tight_layout();"
   ]
  },
  {
   "cell_type": "code",
   "execution_count": 10,
   "metadata": {},
   "outputs": [
    {
     "data": {
      "image/png": "[encoded data removed]",
      "text/plain": [
       "<Figure size 864x432 with 1 Axes>"
      ]
     },
     "metadata": {},
     "output_type": "display_data"
    }
   ],
   "source": [
    "train2 = train[train['compliance'].isnull() == False].copy()\n",
    "plt.figure(figsize=(12,6))\n",
    "sns.heatmap(train2.isnull(), yticklabels=False, cbar=False, cmap='viridis')\n",
    "plt.title('Train 2 Data', fontsize=22)\n",
    "plt.tight_layout();"
   ]
  },
  {
   "cell_type": "code",
   "execution_count": 11,
   "metadata": {},
   "outputs": [
    {
     "name": "stdout",
     "output_type": "stream",
     "text": [
      "Percent of Total Property Owners that are Compliant:  0.07254\n",
      "Percent of Total Property Owners that are Noncompliant:  0.92746\n"
     ]
    }
   ],
   "source": [
    "prcnt_compliant = round(sum(train2['compliance']) / len(train2['compliance']), 5)\n",
    "print('Percent of Total Property Owners that are Compliant: ', prcnt_compliant)\n",
    "print('Percent of Total Property Owners that are Noncompliant: ', 1 - prcnt_compliant)"
   ]
  },
  {
   "cell_type": "code",
   "execution_count": 12,
   "metadata": {},
   "outputs": [],
   "source": [
    "def create_bool_col(x, val):\n",
    "    if x == val:\n",
    "        boolean = 1\n",
    "    else:\n",
    "        boolean = 0\n",
    "    return boolean"
   ]
  },
  {
   "cell_type": "code",
   "execution_count": 13,
   "metadata": {},
   "outputs": [
    {
     "name": "stdout",
     "output_type": "stream",
     "text": [
      "# of Unique Violation Codes:  189\n",
      "# of Unique Agencies:  5\n",
      "# of Unique Dispositions:  4\n"
     ]
    }
   ],
   "source": [
    "print('# of Unique Violation Codes: ', len(train2['violation_code'].unique()))\n",
    "print('# of Unique Agencies: ', len(train2['agency_name'].unique()))\n",
    "print('# of Unique Dispositions: ', len(train2['disposition'].unique()))"
   ]
  },
  {
   "cell_type": "code",
   "execution_count": 14,
   "metadata": {},
   "outputs": [
    {
     "name": "stdout",
     "output_type": "stream",
     "text": [
      "Unique Dispositions:  ['Responsible by Default' 'Responsible by Determination'\n",
      " 'Responsible by Admission' 'Responsible (Fine Waived) by Deter']\n"
     ]
    }
   ],
   "source": [
    "print('Unique Dispositions: ', train2['disposition'].unique())"
   ]
  },
  {
   "cell_type": "markdown",
   "metadata": {},
   "source": [
    "## Feature Engineering"
   ]
  },
  {
   "cell_type": "code",
   "execution_count": 15,
   "metadata": {},
   "outputs": [],
   "source": [
    "train2['detroit_address'] = train2['city'].apply(lambda x: create_bool_col(x, 'Detroit'))\n",
    "train2['MI_address'] = train2['state'].apply(lambda x: create_bool_col(x, 'MI'))\n",
    "train2['USA_address'] = train2['country'].apply(lambda x: create_bool_col(x, 'USA'))\n",
    "train2['CAN_address'] = train2['country'].apply(lambda x: create_bool_col(x, 'Cana'))"
   ]
  },
  {
   "cell_type": "code",
   "execution_count": 16,
   "metadata": {},
   "outputs": [],
   "source": [
    "# Create onehot-encoded features.\n",
    "violation_code_dummy = pd.get_dummies(train2['violation_code'])\n",
    "inspector_dummy = pd.get_dummies(train2['inspector_name'])\n",
    "disposition_dummy = pd.get_dummies(train2['disposition'])\n",
    "agency_dummy = pd.get_dummies(train2['agency_name'])"
   ]
  },
  {
   "cell_type": "markdown",
   "metadata": {},
   "source": [
    "### Create New Datasets"
   ]
  },
  {
   "cell_type": "code",
   "execution_count": 17,
   "metadata": {},
   "outputs": [
    {
     "data": {
      "text/html": [
       "<div>\n",
       "<style scoped>\n",
       "    .dataframe tbody tr th:only-of-type {\n",
       "        vertical-align: middle;\n",
       "    }\n",
       "\n",
       "    .dataframe tbody tr th {\n",
       "        vertical-align: top;\n",
       "    }\n",
       "\n",
       "    .dataframe thead th {\n",
       "        text-align: right;\n",
       "    }\n",
       "</style>\n",
       "<table border=\"1\" class=\"dataframe\">\n",
       "  <thead>\n",
       "    <tr style=\"text-align: right;\">\n",
       "      <th></th>\n",
       "      <th>detroit_address</th>\n",
       "      <th>MI_address</th>\n",
       "      <th>USA_address</th>\n",
       "      <th>CAN_address</th>\n",
       "      <th>fine_amount</th>\n",
       "      <th>late_fee</th>\n",
       "      <th>compliance</th>\n",
       "      <th>19420901</th>\n",
       "      <th>19450901</th>\n",
       "      <th>19830901</th>\n",
       "      <th>...</th>\n",
       "      <th>Watson, Jerry</th>\n",
       "      <th>Wilcox, Valerie</th>\n",
       "      <th>Wilkins, Rolland W</th>\n",
       "      <th>Williams, Cecila</th>\n",
       "      <th>Williams, Darrin</th>\n",
       "      <th>Williams, Dennis E</th>\n",
       "      <th>Williamson, Lillett</th>\n",
       "      <th>Woodall, Joseph</th>\n",
       "      <th>Zawislak, Norbet</th>\n",
       "      <th>Zizi, Josue</th>\n",
       "    </tr>\n",
       "  </thead>\n",
       "  <tbody>\n",
       "    <tr>\n",
       "      <th>0</th>\n",
       "      <td>0</td>\n",
       "      <td>0</td>\n",
       "      <td>1</td>\n",
       "      <td>0</td>\n",
       "      <td>250.0</td>\n",
       "      <td>25.0</td>\n",
       "      <td>0.0</td>\n",
       "      <td>0</td>\n",
       "      <td>0</td>\n",
       "      <td>0</td>\n",
       "      <td>...</td>\n",
       "      <td>0</td>\n",
       "      <td>0</td>\n",
       "      <td>0</td>\n",
       "      <td>0</td>\n",
       "      <td>0</td>\n",
       "      <td>0</td>\n",
       "      <td>0</td>\n",
       "      <td>0</td>\n",
       "      <td>0</td>\n",
       "      <td>0</td>\n",
       "    </tr>\n",
       "    <tr>\n",
       "      <th>1</th>\n",
       "      <td>1</td>\n",
       "      <td>1</td>\n",
       "      <td>1</td>\n",
       "      <td>0</td>\n",
       "      <td>750.0</td>\n",
       "      <td>75.0</td>\n",
       "      <td>1.0</td>\n",
       "      <td>0</td>\n",
       "      <td>0</td>\n",
       "      <td>0</td>\n",
       "      <td>...</td>\n",
       "      <td>0</td>\n",
       "      <td>0</td>\n",
       "      <td>0</td>\n",
       "      <td>0</td>\n",
       "      <td>1</td>\n",
       "      <td>0</td>\n",
       "      <td>0</td>\n",
       "      <td>0</td>\n",
       "      <td>0</td>\n",
       "      <td>0</td>\n",
       "    </tr>\n",
       "  </tbody>\n",
       "</table>\n",
       "<p>2 rows × 355 columns</p>\n",
       "</div>"
      ],
      "text/plain": [
       "   detroit_address  MI_address  USA_address  CAN_address  fine_amount  \\\n",
       "0                0           0            1            0        250.0   \n",
       "1                1           1            1            0        750.0   \n",
       "\n",
       "   late_fee  compliance  19420901  19450901  19830901  ...  Watson, Jerry  \\\n",
       "0      25.0         0.0         0         0         0  ...              0   \n",
       "1      75.0         1.0         0         0         0  ...              0   \n",
       "\n",
       "   Wilcox, Valerie  Wilkins, Rolland W  Williams, Cecila  Williams, Darrin  \\\n",
       "0                0                   0                 0                 0   \n",
       "1                0                   0                 0                 1   \n",
       "\n",
       "   Williams, Dennis E  Williamson, Lillett  Woodall, Joseph  Zawislak, Norbet  \\\n",
       "0                   0                    0                0                 0   \n",
       "1                   0                    0                0                 0   \n",
       "\n",
       "   Zizi, Josue  \n",
       "0            0  \n",
       "1            0  \n",
       "\n",
       "[2 rows x 355 columns]"
      ]
     },
     "execution_count": 17,
     "metadata": {},
     "output_type": "execute_result"
    }
   ],
   "source": [
    "train3 = train2[['detroit_address', 'MI_address', 'USA_address', 'CAN_address', 'fine_amount', \n",
    "                 'late_fee', 'compliance']].copy()\n",
    "train3 = pd.concat([train3, violation_code_dummy, inspector_dummy], axis=1)\n",
    "train3.head(2)"
   ]
  },
  {
   "cell_type": "code",
   "execution_count": 18,
   "metadata": {},
   "outputs": [],
   "source": [
    "train4 = pd.concat([agency_dummy, disposition_dummy, violation_code_dummy, inspector_dummy], axis=1)"
   ]
  },
  {
   "cell_type": "markdown",
   "metadata": {},
   "source": [
    "## Baseline Model - Random Forest"
   ]
  },
  {
   "cell_type": "code",
   "execution_count": 19,
   "metadata": {},
   "outputs": [],
   "source": [
    "X3 = train3.drop('compliance', axis=1).values\n",
    "y3 = train3['compliance'].values\n",
    "\n",
    "X3_train, X3_val, y3_train, y3_val = train_test_split(X3, y3, test_size=0.20, random_state=3)"
   ]
  },
  {
   "cell_type": "code",
   "execution_count": 20,
   "metadata": {},
   "outputs": [
    {
     "data": {
      "text/plain": [
       "(159880, 354)"
      ]
     },
     "execution_count": 20,
     "metadata": {},
     "output_type": "execute_result"
    }
   ],
   "source": [
    "X3.shape"
   ]
  },
  {
   "cell_type": "code",
   "execution_count": 21,
   "metadata": {},
   "outputs": [
    {
     "data": {
      "text/plain": [
       "RandomForestClassifier(max_depth=5, max_features=18, n_estimators=20,\n",
       "                       random_state=3)"
      ]
     },
     "execution_count": 21,
     "metadata": {},
     "output_type": "execute_result"
    }
   ],
   "source": [
    "n_features = int(np.sqrt(X3.shape[1]))\n",
    "base_forest = RandomForestClassifier(max_depth=5, random_state=3, n_estimators=20, max_features=n_features)\n",
    "base_forest.fit(X3_train, y3_train)"
   ]
  },
  {
   "cell_type": "code",
   "execution_count": 22,
   "metadata": {},
   "outputs": [
    {
     "name": "stdout",
     "output_type": "stream",
     "text": [
      "Random Forest Baseline AUC Score - Train:  [0.76531413 0.75862349 0.7598966  0.76292415 0.76830887]\n",
      "Random Forest - Baseline - AUC Score - Validation:  0.7670486683473338\n"
     ]
    }
   ],
   "source": [
    "forest_train_auc = cross_val_score(base_forest, X3_train, y3_train, scoring='roc_auc', cv=5)\n",
    "y3_prob = base_forest.predict_proba(X3_val)[:,1]\n",
    "y3_auc = roc_auc_score(y3_val, y3_prob)\n",
    "\n",
    "print('Random Forest Baseline AUC Score - Train: ', forest_train_auc)\n",
    "print('Random Forest - Baseline - AUC Score - Validation: ', y3_auc )"
   ]
  },
  {
   "cell_type": "code",
   "execution_count": 23,
   "metadata": {},
   "outputs": [],
   "source": [
    "perm_imp = permutation_importance(base_forest, X3_val, y3_val, scoring='roc_auc', n_repeats=10, random_state=3)\n",
    "\n"
   ]
  },
  {
   "cell_type": "code",
   "execution_count": 24,
   "metadata": {},
   "outputs": [],
   "source": [
    "def plot_permutation_import(model, X, y, feat_names, n_repeats=10):\n",
    "    perm_imp = permutation_importance(model, X, y, scoring='roc_auc', n_repeats=n_repeats, random_state=3)\n",
    "    #feature_names = pd.Series(train_set.columns.drop('compliance'))\n",
    "    results = perm_imp.importances_mean\n",
    "    df_perm_import = pd.DataFrame()\n",
    "    df_perm_import['feature_names'] = feat_names\n",
    "    df_perm_import['perm_import_score'] = results\n",
    "    df_perm_import.columns=df_perm_import.columns.str.strip()\n",
    "    df_perm_import.sort_values('perm_import_score', inplace=True, ascending=False)\n",
    "    \n",
    "    plt.figure(figsize=(12,12))\n",
    "    perm_import_top_25 = df_perm_import.iloc[:25, :]\n",
    "    sns.barplot(x='perm_import_score', y='feature_names', data=perm_import_top_25, palette='Pastel2')\n",
    "    plt.title('Permutation Importance - Validation Set - Random Forest - Baseline', fontsize=22)\n",
    "    plt.tight_layout()\n",
    "    plt.show();"
   ]
  },
  {
   "cell_type": "code",
   "execution_count": 25,
   "metadata": {},
   "outputs": [
    {
     "data": {
      "text/html": [
       "<div>\n",
       "<style scoped>\n",
       "    .dataframe tbody tr th:only-of-type {\n",
       "        vertical-align: middle;\n",
       "    }\n",
       "\n",
       "    .dataframe tbody tr th {\n",
       "        vertical-align: top;\n",
       "    }\n",
       "\n",
       "    .dataframe thead th {\n",
       "        text-align: right;\n",
       "    }\n",
       "</style>\n",
       "<table border=\"1\" class=\"dataframe\">\n",
       "  <thead>\n",
       "    <tr style=\"text-align: right;\">\n",
       "      <th></th>\n",
       "      <th>feature_names</th>\n",
       "      <th>perm_import_score</th>\n",
       "    </tr>\n",
       "  </thead>\n",
       "  <tbody>\n",
       "    <tr>\n",
       "      <th>5</th>\n",
       "      <td>late_fee</td>\n",
       "      <td>0.160209</td>\n",
       "    </tr>\n",
       "    <tr>\n",
       "      <th>185</th>\n",
       "      <td>9-1-81(a)</td>\n",
       "      <td>0.016111</td>\n",
       "    </tr>\n",
       "    <tr>\n",
       "      <th>4</th>\n",
       "      <td>fine_amount</td>\n",
       "      <td>0.010367</td>\n",
       "    </tr>\n",
       "    <tr>\n",
       "      <th>149</th>\n",
       "      <td>9-1-36(a)</td>\n",
       "      <td>0.004761</td>\n",
       "    </tr>\n",
       "    <tr>\n",
       "      <th>288</th>\n",
       "      <td>Morris, John</td>\n",
       "      <td>0.002746</td>\n",
       "    </tr>\n",
       "    <tr>\n",
       "      <th>29</th>\n",
       "      <td>22-2-45</td>\n",
       "      <td>0.001963</td>\n",
       "    </tr>\n",
       "    <tr>\n",
       "      <th>38</th>\n",
       "      <td>22-2-61</td>\n",
       "      <td>0.001293</td>\n",
       "    </tr>\n",
       "    <tr>\n",
       "      <th>100</th>\n",
       "      <td>9-1-103(C)</td>\n",
       "      <td>0.001272</td>\n",
       "    </tr>\n",
       "    <tr>\n",
       "      <th>320</th>\n",
       "      <td>Sims, Martinzie</td>\n",
       "      <td>0.001202</td>\n",
       "    </tr>\n",
       "    <tr>\n",
       "      <th>286</th>\n",
       "      <td>Moore, David</td>\n",
       "      <td>0.000670</td>\n",
       "    </tr>\n",
       "  </tbody>\n",
       "</table>\n",
       "</div>"
      ],
      "text/plain": [
       "       feature_names  perm_import_score\n",
       "5           late_fee           0.160209\n",
       "185        9-1-81(a)           0.016111\n",
       "4        fine_amount           0.010367\n",
       "149        9-1-36(a)           0.004761\n",
       "288     Morris, John           0.002746\n",
       "29           22-2-45           0.001963\n",
       "38           22-2-61           0.001293\n",
       "100       9-1-103(C)           0.001272\n",
       "320  Sims, Martinzie           0.001202\n",
       "286     Moore, David           0.000670"
      ]
     },
     "execution_count": 25,
     "metadata": {},
     "output_type": "execute_result"
    }
   ],
   "source": [
    "feature_names = pd.Series(train3.columns.drop('compliance'))\n",
    "results = perm_imp.importances_mean\n",
    "df_perm_import = pd.DataFrame()\n",
    "df_perm_import['feature_names'] = feature_names\n",
    "df_perm_import['perm_import_score'] = results\n",
    "df_perm_import.columns=df_perm_import.columns.str.strip()\n",
    "df_perm_import.sort_values('perm_import_score', inplace=True, ascending=False)\n",
    "df_perm_import.head(10)"
   ]
  },
  {
   "cell_type": "code",
   "execution_count": 26,
   "metadata": {},
   "outputs": [
    {
     "data": {
      "image/png": "[encoded data removed]",
      "text/plain": [
       "<Figure size 864x864 with 1 Axes>"
      ]
     },
     "metadata": {},
     "output_type": "display_data"
    }
   ],
   "source": [
    "plt.figure(figsize=(12,12))\n",
    "perm_import_top_25 = df_perm_import.iloc[:25, :]\n",
    "sns.barplot(x='perm_import_score', y='feature_names', data=perm_import_top_25, palette='Pastel2')\n",
    "plt.title('Permutation Importance - Validation Set - Random Forest - Baseline', fontsize=22)\n",
    "plt.tight_layout();"
   ]
  },
  {
   "cell_type": "code",
   "execution_count": null,
   "metadata": {},
   "outputs": [],
   "source": [
    "train2[train2['violation_code'] == '9-1-81(a)'].iloc[:, :20].head(2)"
   ]
  },
  {
   "cell_type": "code",
   "execution_count": 58,
   "metadata": {},
   "outputs": [
    {
     "data": {
      "text/html": [
       "<div>\n",
       "<style scoped>\n",
       "    .dataframe tbody tr th:only-of-type {\n",
       "        vertical-align: middle;\n",
       "    }\n",
       "\n",
       "    .dataframe tbody tr th {\n",
       "        vertical-align: top;\n",
       "    }\n",
       "\n",
       "    .dataframe thead th {\n",
       "        text-align: right;\n",
       "    }\n",
       "</style>\n",
       "<table border=\"1\" class=\"dataframe\">\n",
       "  <thead>\n",
       "    <tr style=\"text-align: right;\">\n",
       "      <th></th>\n",
       "      <th>ticket_id</th>\n",
       "      <th>agency_name</th>\n",
       "      <th>inspector_name</th>\n",
       "      <th>violator_name</th>\n",
       "      <th>violation_street_number</th>\n",
       "      <th>violation_street_name</th>\n",
       "      <th>violation_zip_code</th>\n",
       "      <th>mailing_address_str_number</th>\n",
       "      <th>mailing_address_str_name</th>\n",
       "      <th>city</th>\n",
       "      <th>state</th>\n",
       "      <th>zip_code</th>\n",
       "      <th>non_us_str_code</th>\n",
       "      <th>country</th>\n",
       "      <th>ticket_issued_date</th>\n",
       "      <th>hearing_date</th>\n",
       "      <th>violation_code</th>\n",
       "      <th>violation_description</th>\n",
       "      <th>disposition</th>\n",
       "      <th>fine_amount</th>\n",
       "    </tr>\n",
       "  </thead>\n",
       "  <tbody>\n",
       "    <tr>\n",
       "      <th>0</th>\n",
       "      <td>22056</td>\n",
       "      <td>Buildings, Safety Engineering &amp; Env Department</td>\n",
       "      <td>Sims, Martinzie</td>\n",
       "      <td>INVESTMENT INC., MIDWEST MORTGAGE</td>\n",
       "      <td>2900.0</td>\n",
       "      <td>TYLER</td>\n",
       "      <td>NaN</td>\n",
       "      <td>3.0</td>\n",
       "      <td>S. WICKER</td>\n",
       "      <td>CHICAGO</td>\n",
       "      <td>IL</td>\n",
       "      <td>60606</td>\n",
       "      <td>NaN</td>\n",
       "      <td>USA</td>\n",
       "      <td>2004-03-16 11:40:00</td>\n",
       "      <td>2005-03-21 10:30:00</td>\n",
       "      <td>9-1-36(a)</td>\n",
       "      <td>Failure of owner to obtain certificate of comp...</td>\n",
       "      <td>Responsible by Default</td>\n",
       "      <td>250.0</td>\n",
       "    </tr>\n",
       "    <tr>\n",
       "      <th>5</th>\n",
       "      <td>22046</td>\n",
       "      <td>Buildings, Safety Engineering &amp; Env Department</td>\n",
       "      <td>Sims, Martinzie</td>\n",
       "      <td>KASIMU, UKWELI</td>\n",
       "      <td>6478.0</td>\n",
       "      <td>NORTHFIELD</td>\n",
       "      <td>NaN</td>\n",
       "      <td>2755.0</td>\n",
       "      <td>E. 17TH</td>\n",
       "      <td>LOG BEACH</td>\n",
       "      <td>CA</td>\n",
       "      <td>908041512</td>\n",
       "      <td>NaN</td>\n",
       "      <td>USA</td>\n",
       "      <td>2004-05-01 11:50:00</td>\n",
       "      <td>2005-03-21 10:30:00</td>\n",
       "      <td>9-1-36(a)</td>\n",
       "      <td>Failure of owner to obtain certificate of comp...</td>\n",
       "      <td>Responsible by Default</td>\n",
       "      <td>250.0</td>\n",
       "    </tr>\n",
       "  </tbody>\n",
       "</table>\n",
       "</div>"
      ],
      "text/plain": [
       "   ticket_id                                     agency_name   inspector_name  \\\n",
       "0      22056  Buildings, Safety Engineering & Env Department  Sims, Martinzie   \n",
       "5      22046  Buildings, Safety Engineering & Env Department  Sims, Martinzie   \n",
       "\n",
       "                       violator_name  violation_street_number  \\\n",
       "0  INVESTMENT INC., MIDWEST MORTGAGE                   2900.0   \n",
       "5                     KASIMU, UKWELI                   6478.0   \n",
       "\n",
       "  violation_street_name  violation_zip_code  mailing_address_str_number  \\\n",
       "0                 TYLER                 NaN                         3.0   \n",
       "5            NORTHFIELD                 NaN                      2755.0   \n",
       "\n",
       "  mailing_address_str_name       city state   zip_code non_us_str_code  \\\n",
       "0                S. WICKER    CHICAGO    IL      60606             NaN   \n",
       "5                  E. 17TH  LOG BEACH    CA  908041512             NaN   \n",
       "\n",
       "  country   ticket_issued_date         hearing_date violation_code  \\\n",
       "0     USA  2004-03-16 11:40:00  2005-03-21 10:30:00      9-1-36(a)   \n",
       "5     USA  2004-05-01 11:50:00  2005-03-21 10:30:00      9-1-36(a)   \n",
       "\n",
       "                               violation_description             disposition  \\\n",
       "0  Failure of owner to obtain certificate of comp...  Responsible by Default   \n",
       "5  Failure of owner to obtain certificate of comp...  Responsible by Default   \n",
       "\n",
       "   fine_amount  \n",
       "0        250.0  \n",
       "5        250.0  "
      ]
     },
     "execution_count": 58,
     "metadata": {},
     "output_type": "execute_result"
    }
   ],
   "source": [
    "train2[train2['violation_code'] == '9-1-36(a)'].iloc[:,:20].head(2)"
   ]
  },
  {
   "cell_type": "markdown",
   "metadata": {},
   "source": [
    "###  Random Undersampling"
   ]
  },
  {
   "cell_type": "code",
   "execution_count": null,
   "metadata": {},
   "outputs": [],
   "source": [
    "# rndm_undr_smplr_3 = RandomUnderSampler(random_state=1)\n",
    "# rndm_undr_smplr_3.fit(X3_train, y3_train)\n",
    "# X_3_train_undr, y_3_train_undr = rndm_undr_smplr_3.fit_resample(X_3_train, y_3_train)"
   ]
  },
  {
   "cell_type": "code",
   "execution_count": 29,
   "metadata": {},
   "outputs": [
    {
     "name": "stdout",
     "output_type": "stream",
     "text": [
      "Random Forest - Random Under - Baseline AUC Score - Train:  [0.76121182 0.74984099 0.76008302 0.76883061 0.77091829]\n",
      "Random Forest - Random Under - Baseline - AUC Score - Validation:  0.7429112998437504\n"
     ]
    }
   ],
   "source": [
    "random_under_sampler = RandomUnderSampler(random_state=3)\n",
    "X3_train_rndm, y3_train_rndm = random_under_sampler.fit_sample(X3_train, y3_train)\n",
    "#  = random_under_sampler.fit_sample(X3_train, y3_train)\n",
    "\n",
    "forest_rndm = RandomForestClassifier(max_depth=5, random_state=3, n_estimators=20, max_features=n_features)\n",
    "forest_rndm.fit(X3_train_rndm, y3_train_rndm)\n",
    "\n",
    "forest_train_auc = cross_val_score(forest_rndm, X3_train_rndm, y3_train_rndm, scoring='roc_auc', cv=5)\n",
    "y3_prob = forest_rndm.predict_proba(X3_val)[:,1]\n",
    "y3_auc = roc_auc_score(y3_val, y3_prob)\n",
    "\n",
    "print('Random Forest - Random Under - Baseline AUC Score - Train: ', forest_train_auc)\n",
    "print('Random Forest - Random Under - Baseline - AUC Score - Validation: ', y3_auc )"
   ]
  },
  {
   "cell_type": "code",
   "execution_count": null,
   "metadata": {},
   "outputs": [],
   "source": [
    "feature_names = pd.Series(train3.columns.drop('compliance'))\n",
    "plot_permutation_import(forest_rndm, X3_val, y3_val, feature_names, n_repeats=10)"
   ]
  },
  {
   "cell_type": "markdown",
   "metadata": {},
   "source": [
    "### Tomek Links Undersampling"
   ]
  },
  {
   "cell_type": "code",
   "execution_count": null,
   "metadata": {},
   "outputs": [],
   "source": [
    "tomek_links = TomekLinks()\n",
    "X3_train_tom, y3_train_tom = tomek_links.fit_sample(X3_train, y3_train)\n",
    "# X3_train_rndm, y3_train_rndm = random_under_sampler.fit_sample(X3_train, y3_train)\n",
    "\n",
    "forest_tom = RandomForestClassifier(max_depth=5, random_state=3, n_estimators=20, max_features=n_features)\n",
    "forest_tom.fit(X3_train_tom, y3_train_tom)\n",
    "\n",
    "forest_tom_train_auc = cross_val_score(forest, X3_train_tom, y3_train_tom, scoring='roc_auc', cv=5)\n",
    "y3_prob = forest_tom.predict_proba(X3_val)[:,1]\n",
    "y3_auc_tom = roc_auc_score(y3_val, y3_prob)\n",
    "\n",
    "print('Random Forest - Tomek Link - Baseline AUC Score - Train: ', forest_tom_train_auc)\n",
    "print('Random Forest - Tomek Link - Baseline - AUC Score - Validation: ', y3_auc_tom )"
   ]
  },
  {
   "cell_type": "code",
   "execution_count": null,
   "metadata": {},
   "outputs": [],
   "source": [
    "plot_permutation_import(forest_tom, X3_val, y3_val, feature_names, n_repeats=10)"
   ]
  },
  {
   "cell_type": "markdown",
   "metadata": {},
   "source": [
    "---\n",
    "## Random Forest - Permutation Importance - OneHot Encoded Only\n",
    "\n"
   ]
  },
  {
   "cell_type": "code",
   "execution_count": 70,
   "metadata": {},
   "outputs": [
    {
     "data": {
      "text/plain": [
       "RandomForestClassifier(bootstrap=True, ccp_alpha=0.0, class_weight=None,\n",
       "                       criterion='gini', max_depth=5, max_features=18,\n",
       "                       max_leaf_nodes=None, max_samples=None,\n",
       "                       min_impurity_decrease=0.0, min_impurity_split=None,\n",
       "                       min_samples_leaf=1, min_samples_split=2,\n",
       "                       min_weight_fraction_leaf=0.0, n_estimators=20,\n",
       "                       n_jobs=None, oob_score=False, random_state=3, verbose=0,\n",
       "                       warm_start=False)"
      ]
     },
     "execution_count": 70,
     "metadata": {},
     "output_type": "execute_result"
    }
   ],
   "source": [
    "train4 = pd.concat([agency_dummy, disposition_dummy, violation_code_dummy, inspector_dummy], axis=1)\n",
    "X4 = train4.values\n",
    "y4 = train2['compliance'].values\n",
    "\n",
    "X4_train, X4_val, y4_train, y4_val = train_test_split(X4, y4, test_size=0.20, random_state=3)\n",
    "\n",
    "n_features = int(np.sqrt(X4.shape[1]))\n",
    "forest4 = RandomForestClassifier(max_depth=5, random_state=3, n_estimators=20, max_features=n_features)\n",
    "forest4.fit(X4_train, y4_train)"
   ]
  },
  {
   "cell_type": "code",
   "execution_count": 71,
   "metadata": {},
   "outputs": [
    {
     "name": "stdout",
     "output_type": "stream",
     "text": [
      "Random Forest Baseline AUC Score - Train:  [0.764259   0.76948016 0.76246491 0.76599471 0.76643673]\n",
      "Random Forest - Baseline - AUC Score - Validation:  0.7669800241067569\n"
     ]
    }
   ],
   "source": [
    "forest_train_auc = cross_val_score(forest4, X4_train, y4_train, scoring='roc_auc', cv=5)\n",
    "y4_prob = forest4.predict_proba(X4_val)[:,1]\n",
    "y4_auc = roc_auc_score(y4_val, y4_prob)\n",
    "\n",
    "print('Random Forest Baseline AUC Score - Train: ', forest_train_auc)\n",
    "print('Random Forest - Baseline - AUC Score - Validation: ', y4_auc )"
   ]
  },
  {
   "cell_type": "code",
   "execution_count": null,
   "metadata": {},
   "outputs": [],
   "source": [
    "plot_permutation_import(forest4, X4_val, y4_val, train4.columns, n_repeats=10)"
   ]
  },
  {
   "cell_type": "markdown",
   "metadata": {},
   "source": [
    "## Random Forest - Permutation Importance - OneHot Encoded Only - Include Detroit, Michigan, USA, Canada"
   ]
  },
  {
   "cell_type": "code",
   "execution_count": 91,
   "metadata": {},
   "outputs": [
    {
     "data": {
      "text/plain": [
       "RandomForestClassifier(bootstrap=True, ccp_alpha=0.0, class_weight=None,\n",
       "                       criterion='gini', max_depth=5, max_features=19,\n",
       "                       max_leaf_nodes=None, max_samples=None,\n",
       "                       min_impurity_decrease=0.0, min_impurity_split=None,\n",
       "                       min_samples_leaf=1, min_samples_split=2,\n",
       "                       min_weight_fraction_leaf=0.0, n_estimators=20,\n",
       "                       n_jobs=None, oob_score=False, random_state=3, verbose=0,\n",
       "                       warm_start=False)"
      ]
     },
     "execution_count": 91,
     "metadata": {},
     "output_type": "execute_result"
    }
   ],
   "source": [
    "train5 = train2[['detroit_address', 'MI_address', 'USA_address', 'CAN_address']].copy()\n",
    "train5 = pd.concat([train5, agency_dummy, disposition_dummy, violation_code_dummy, inspector_dummy], axis=1)\n",
    "X5 = train5.values\n",
    "y5 = train2['compliance'].values\n",
    "\n",
    "X5_train, X5_val, y5_train, y5_val = train_test_split(X5, y5, test_size=0.20, random_state=3)\n",
    "\n",
    "n_features = int(np.sqrt(X5.shape[1]))\n",
    "forest5 = RandomForestClassifier(max_depth=5, random_state=3, n_estimators=20, max_features=n_features)\n",
    "forest5.fit(X5_train, y5_train)"
   ]
  },
  {
   "cell_type": "code",
   "execution_count": 93,
   "metadata": {},
   "outputs": [
    {
     "name": "stdout",
     "output_type": "stream",
     "text": [
      "Random Forest Baseline AUC Score - Train:  [0.76468968 0.77223395 0.76493149 0.76364651 0.76859819]\n",
      "Random Forest - Baseline - AUC Score - Validation:  0.768366648063413\n"
     ]
    }
   ],
   "source": [
    "forest5_train_auc = cross_val_score(forest5, X5_train, y5_train, scoring='roc_auc', cv=5)\n",
    "y5_prob = forest5.predict_proba(X5_val)[:,1]\n",
    "y5_auc = roc_auc_score(y5_val, y5_prob)\n",
    "\n",
    "print('Random Forest Baseline AUC Score - Train: ', forest5_train_auc)\n",
    "print('Random Forest - Baseline - AUC Score - Validation: ', y5_auc )"
   ]
  },
  {
   "cell_type": "code",
   "execution_count": 94,
   "metadata": {},
   "outputs": [
    {
     "data": {
      "image/png": "[encoded data removed]",
      "text/plain": [
       "<Figure size 864x864 with 1 Axes>"
      ]
     },
     "metadata": {
      "needs_background": "light"
     },
     "output_type": "display_data"
    }
   ],
   "source": [
    "plot_permutation_import(forest5, X5_val, y5_val, train5.columns, n_repeats=10)"
   ]
  },
  {
   "cell_type": "markdown",
   "metadata": {},
   "source": [
    "## Random Forest - Train Set #6 - Numeric Only - Permutation Importance  "
   ]
  },
  {
   "cell_type": "code",
   "execution_count": 118,
   "metadata": {},
   "outputs": [
    {
     "data": {
      "text/plain": [
       "RandomForestClassifier(bootstrap=True, ccp_alpha=0.0, class_weight=None,\n",
       "                       criterion='gini', max_depth=5, max_features=2,\n",
       "                       max_leaf_nodes=None, max_samples=None,\n",
       "                       min_impurity_decrease=0.0, min_impurity_split=None,\n",
       "                       min_samples_leaf=1, min_samples_split=2,\n",
       "                       min_weight_fraction_leaf=0.0, n_estimators=20,\n",
       "                       n_jobs=None, oob_score=False, random_state=3, verbose=0,\n",
       "                       warm_start=False)"
      ]
     },
     "execution_count": 118,
     "metadata": {},
     "output_type": "execute_result"
    }
   ],
   "source": [
    "train6 = train2[['fine_amount', 'admin_fee', 'late_fee', 'discount_amount', 'clean_up_cost']].copy()\n",
    "#train6 = pd.concat([train6, agency_dummy, disposition_dummy, violation_code_dummy, inspector_dummy], axis=1)\n",
    "X6 = train6.values\n",
    "y6 = train2['compliance'].values\n",
    "\n",
    "X6_train, X6_val, y6_train, y6_val = train_test_split(X6, y6, test_size=0.20, random_state=3)\n",
    "\n",
    "n_features = int(np.sqrt(X6.shape[1]))\n",
    "forest6 = RandomForestClassifier(max_depth=5, random_state=3, n_estimators=20, max_features=n_features)\n",
    "forest6.fit(X6_train, y6_train)"
   ]
  },
  {
   "cell_type": "code",
   "execution_count": 119,
   "metadata": {},
   "outputs": [
    {
     "name": "stdout",
     "output_type": "stream",
     "text": [
      "Random Forest Baseline AUC Score - Train:  [0.75840445 0.7500576  0.75491247 0.75902699 0.76233215]\n",
      "Random Forest - Baseline - AUC Score - Validation:  0.7583135508276291\n"
     ]
    }
   ],
   "source": [
    "forest6_train_auc = cross_val_score(forest6, X6_train, y6_train, scoring='roc_auc', cv=5)\n",
    "y6_prob = forest6.predict_proba(X6_val)[:,1]\n",
    "y6_auc = roc_auc_score(y6_val, y6_prob)\n",
    "\n",
    "print('Random Forest Baseline AUC Score - Train: ', forest6_train_auc)\n",
    "print('Random Forest - Baseline - AUC Score - Validation: ', y6_auc )"
   ]
  },
  {
   "cell_type": "code",
   "execution_count": 120,
   "metadata": {},
   "outputs": [
    {
     "data": {
      "image/png": "[encoded data removed]",
      "text/plain": [
       "<Figure size 864x864 with 1 Axes>"
      ]
     },
     "metadata": {
      "needs_background": "light"
     },
     "output_type": "display_data"
    }
   ],
   "source": [
    "plot_permutation_import(forest6, X6_val, y6_val, train6.columns, n_repeats=10)"
   ]
  },
  {
   "cell_type": "markdown",
   "metadata": {},
   "source": [
    "## Random Forest - Train Set #7 - Optimized Dataset - Permutation Importance  "
   ]
  },
  {
   "cell_type": "code",
   "execution_count": 19,
   "metadata": {},
   "outputs": [],
   "source": [
    "def create_split_final_dataset_num_7():\n",
    "    train7 = train2[['fine_amount', 'late_fee', 'discount_amount']].copy()\n",
    "    train7 = pd.concat([train7, violation_code_dummy, disposition_dummy, inspector_dummy, agency_dummy], axis=1)\n",
    "    X7 = train7.values\n",
    "    y7 = train2['compliance'].values\n",
    "    X7_train, X7_val, y7_train, y7_val = train_test_split(X7, y7, test_size=0.20, random_state=3)\n",
    "    return X7_train, X7_val, y7_train, y7_val"
   ]
  },
  {
   "cell_type": "code",
   "execution_count": 27,
   "metadata": {},
   "outputs": [
    {
     "data": {
      "text/plain": [
       "RandomForestClassifier(max_depth=5, max_features=18, n_estimators=20,\n",
       "                       random_state=3)"
      ]
     },
     "execution_count": 27,
     "metadata": {},
     "output_type": "execute_result"
    }
   ],
   "source": [
    "\n",
    "\n",
    "n_features = int(np.sqrt(X7.shape[1]))\n",
    "forest7 = RandomForestClassifier(max_depth=5, random_state=3, n_estimators=20, max_features=n_features)\n",
    "forest7.fit(X7_train, y7_train)"
   ]
  },
  {
   "cell_type": "code",
   "execution_count": 132,
   "metadata": {},
   "outputs": [
    {
     "name": "stdout",
     "output_type": "stream",
     "text": [
      "Random Forest Baseline AUC Score - Train:  [0.78462568 0.79737327 0.78657832 0.79356917 0.79119287]\n",
      "Random Forest - Baseline - AUC Score - Validation:  0.7893852821099561\n"
     ]
    }
   ],
   "source": [
    "forest7_train_auc = cross_val_score(forest7, X7_train, y7_train, scoring='roc_auc', cv=5)\n",
    "y7_prob = forest7.predict_proba(X7_val)[:,1]\n",
    "y7_auc = roc_auc_score(y7_val, y7_prob)\n",
    "\n",
    "print('Random Forest Baseline AUC Score - Train: ', forest7_train_auc)\n",
    "print('Random Forest - Baseline - AUC Score - Validation: ', y7_auc )"
   ]
  },
  {
   "cell_type": "code",
   "execution_count": 133,
   "metadata": {},
   "outputs": [
    {
     "data": {
      "image/png": "[encoded data removed]",
      "text/plain": [
       "<Figure size 864x864 with 1 Axes>"
      ]
     },
     "metadata": {
      "needs_background": "light"
     },
     "output_type": "display_data"
    }
   ],
   "source": [
    "plot_permutation_import(forest7, X7_val, y7_val, train7.columns, n_repeats=10)"
   ]
  },
  {
   "cell_type": "markdown",
   "metadata": {},
   "source": [
    "---\n",
    "# Model Selection - Optimize Using RandomizedSearchCV"
   ]
  },
  {
   "cell_type": "code",
   "execution_count": 20,
   "metadata": {},
   "outputs": [],
   "source": [
    "#\n",
    "X7_train, X7_val, y7_train, y7_val = create_split_final_dataset_num_7()"
   ]
  },
  {
   "cell_type": "markdown",
   "metadata": {},
   "source": [
    "## Logistic Regression"
   ]
  },
  {
   "cell_type": "code",
   "execution_count": 39,
   "metadata": {},
   "outputs": [],
   "source": [
    "scaler = MinMaxScaler()\n",
    "X7_train_scaled = scaler.fit_transform(X7_train)\n",
    "X7_val_scaled = scaler.transform(X7_val)"
   ]
  },
  {
   "cell_type": "code",
   "execution_count": 40,
   "metadata": {},
   "outputs": [],
   "source": [
    "log_reg = LogisticRegression(verbose=0)\n",
    "log_params = {\n",
    "    'solver' : ['newton-cg', 'lbfgs', 'liblinear', 'sag', 'saga'],\n",
    "    'penalty' : ['l1','l2'],\n",
    "    'C' : [100, 10, 1.0, 0.1, 0.01],\n",
    "    'max_iter': [50, 75, 100, 125]\n",
    "}\n",
    "                \n",
    "log_rs_cv = RandomizedSearchCV(log_reg, log_params, random_state=3, cv=5, n_iter=20, n_jobs=-1, scoring='roc_auc')"
   ]
  },
  {
   "cell_type": "code",
   "execution_count": 41,
   "metadata": {},
   "outputs": [],
   "source": [
    "log_rs_cv.fit(X7_train_scaled, y7_train)\n",
    "y_pred_log = log_rs_cv.predict(X7_val_scaled)\n",
    "y_prob_log = log_rs_cv.predict_proba(X7_val_scaled)[:,1]\n",
    "auc_log = roc_auc_score(y7_val, y_prob_log)"
   ]
  },
  {
   "cell_type": "code",
   "execution_count": 42,
   "metadata": {},
   "outputs": [
    {
     "name": "stdout",
     "output_type": "stream",
     "text": [
      "Logistic Regression - AUC Score - Validation:  0.7960264009294371\n",
      "\n",
      "\n",
      "[[29640    46]\n",
      " [ 2009   281]]\n",
      "\n",
      "\n",
      "              precision    recall  f1-score   support\n",
      "\n",
      "         0.0       0.94      1.00      0.97     29686\n",
      "         1.0       0.86      0.12      0.21      2290\n",
      "\n",
      "    accuracy                           0.94     31976\n",
      "   macro avg       0.90      0.56      0.59     31976\n",
      "weighted avg       0.93      0.94      0.91     31976\n",
      "\n"
     ]
    }
   ],
   "source": [
    "print('Logistic Regression - AUC Score - Validation: ', auc_log)\n",
    "print('\\n')\n",
    "print(confusion_matrix(y7_val, y_pred_log))\n",
    "print('\\n')\n",
    "print(classification_report(y7_val, y_pred_log))"
   ]
  },
  {
   "cell_type": "code",
   "execution_count": 43,
   "metadata": {},
   "outputs": [
    {
     "name": "stdout",
     "output_type": "stream",
     "text": [
      "Best estimator: \n",
      "{'C': 1.0, 'class_weight': None, 'dual': False, 'fit_intercept': True, 'intercept_scaling': 1, 'l1_ratio': None, 'max_iter': 50, 'multi_class': 'auto', 'n_jobs': None, 'penalty': 'l1', 'random_state': None, 'solver': 'liblinear', 'tol': 0.0001, 'verbose': 0, 'warm_start': False}\n",
      "\n",
      " Best score: \n",
      "0.7972441964744579\n",
      "\n",
      " Best parameters:\n",
      "{'solver': 'liblinear', 'penalty': 'l1', 'max_iter': 50, 'C': 1.0}\n"
     ]
    }
   ],
   "source": [
    "print(\"Best estimator: \")\n",
    "print(log_rs_cv.best_estimator_.get_params())\n",
    "print(\"\\n Best score: \")\n",
    "print(log_rs_cv.best_score_)\n",
    "print(\"\\n Best parameters:\")\n",
    "print(log_rs_cv.best_params_)"
   ]
  },
  {
   "cell_type": "markdown",
   "metadata": {},
   "source": [
    "## Random Forest "
   ]
  },
  {
   "cell_type": "code",
   "execution_count": 44,
   "metadata": {},
   "outputs": [],
   "source": [
    "rf = RandomForestClassifier(verbose=0)\n",
    "n_features = int(np.sqrt(X7_train.shape[1]))\n",
    "\n",
    "rf_params = {\n",
    "    'max_depth' : [3, 5, 7],\n",
    "    'max_features': [10, 15, 20, 25],\n",
    "    'min_samples_split' : [0.05, 0.1, 0.15, 0.2, 0.25],\n",
    "    'n_estimators' : [10, 25, 50]\n",
    "}\n",
    "\n",
    "rf_rs_cv = RandomizedSearchCV(rf, rf_params, random_state=3, cv=5, n_iter=20, n_jobs=-1, scoring='roc_auc')"
   ]
  },
  {
   "cell_type": "code",
   "execution_count": 45,
   "metadata": {},
   "outputs": [],
   "source": [
    "rf_rs_cv.fit(X7_train, y7_train)\n",
    "y_pred_rf = rf_rs_cv.predict(X7_val)\n",
    "y_prob_rf = rf_rs_cv.predict_proba(X7_val)[:,1]\n",
    "auc_rf = roc_auc_score(y7_val, y_prob_rf)"
   ]
  },
  {
   "cell_type": "code",
   "execution_count": 46,
   "metadata": {},
   "outputs": [
    {
     "name": "stdout",
     "output_type": "stream",
     "text": [
      "Random Forest - AUC Score - Validation:  0.7908683375075426\n",
      "\n",
      "\n",
      "[[29686     0]\n",
      " [ 2259    31]]\n",
      "\n",
      "\n",
      "              precision    recall  f1-score   support\n",
      "\n",
      "         0.0       0.93      1.00      0.96     29686\n",
      "         1.0       1.00      0.01      0.03      2290\n",
      "\n",
      "    accuracy                           0.93     31976\n",
      "   macro avg       0.96      0.51      0.50     31976\n",
      "weighted avg       0.93      0.93      0.90     31976\n",
      "\n"
     ]
    }
   ],
   "source": [
    "print('Random Forest - AUC Score - Validation: ', auc_rf)\n",
    "print('\\n')\n",
    "print(confusion_matrix(y7_val, y_pred_rf))\n",
    "print('\\n')\n",
    "print(classification_report(y7_val, y_pred_rf))"
   ]
  },
  {
   "cell_type": "code",
   "execution_count": 47,
   "metadata": {},
   "outputs": [
    {
     "name": "stdout",
     "output_type": "stream",
     "text": [
      "Best estimator: \n",
      "{'bootstrap': True, 'ccp_alpha': 0.0, 'class_weight': None, 'criterion': 'gini', 'max_depth': 5, 'max_features': 25, 'max_leaf_nodes': None, 'max_samples': None, 'min_impurity_decrease': 0.0, 'min_impurity_split': None, 'min_samples_leaf': 1, 'min_samples_split': 0.2, 'min_weight_fraction_leaf': 0.0, 'n_estimators': 25, 'n_jobs': None, 'oob_score': False, 'random_state': None, 'verbose': 0, 'warm_start': False}\n",
      "\n",
      " Best score: \n",
      "0.7925940275403898\n",
      "\n",
      " Best parameters:\n",
      "{'n_estimators': 25, 'min_samples_split': 0.2, 'max_features': 25, 'max_depth': 5}\n"
     ]
    }
   ],
   "source": [
    "print(\"Best estimator: \")\n",
    "print(rf_rs_cv.best_estimator_.get_params())\n",
    "print(\"\\n Best score: \")\n",
    "print(rf_rs_cv.best_score_)\n",
    "print(\"\\n Best parameters:\")\n",
    "print(rf_rs_cv.best_params_)"
   ]
  },
  {
   "cell_type": "code",
   "execution_count": 48,
   "metadata": {},
   "outputs": [
    {
     "data": {
      "text/plain": [
       "dict_keys(['bootstrap', 'ccp_alpha', 'class_weight', 'criterion', 'max_depth', 'max_features', 'max_leaf_nodes', 'max_samples', 'min_impurity_decrease', 'min_impurity_split', 'min_samples_leaf', 'min_samples_split', 'min_weight_fraction_leaf', 'n_estimators', 'n_jobs', 'oob_score', 'random_state', 'verbose', 'warm_start'])"
      ]
     },
     "execution_count": 48,
     "metadata": {},
     "output_type": "execute_result"
    }
   ],
   "source": [
    "rf.get_params().keys()"
   ]
  },
  {
   "cell_type": "markdown",
   "metadata": {},
   "source": [
    "## Gradient Boost"
   ]
  },
  {
   "cell_type": "code",
   "execution_count": 49,
   "metadata": {},
   "outputs": [],
   "source": [
    "gb = GradientBoostingClassifier(verbose=0)\n",
    "n_features = int(np.sqrt(X7_train.shape[1]))\n",
    "\n",
    "gb_params = {\n",
    "    'n_estimators' : [50, 100, 200, 400], # 100 is the default\n",
    "    'min_samples_split' : [0.2, 0.3, 0.4, 0.5, 0.6, 0.7, 0.8, 0.9, 1.0],\n",
    "    'max_features': [10, 20, 30, 40],\n",
    "    'learning_rate' : [0.0001, 0.001, 0.01, 0.1, 1.0],\n",
    "    'max_depth' : [3, 5, 7]\n",
    "}\n",
    "\n",
    "gb_rs_cv = RandomizedSearchCV(gb, gb_params, random_state=3, cv=5, n_iter=20, n_jobs=-1, scoring='roc_auc')"
   ]
  },
  {
   "cell_type": "code",
   "execution_count": 53,
   "metadata": {},
   "outputs": [],
   "source": [
    "gb_rs_cv.fit(X7_train, y7_train)\n",
    "y_pred_gb = gb_rs_cv.predict(X7_val)\n",
    "y_prob_gb = gb_rs_cv.predict_proba(X7_val)[:,1]\n",
    "auc_gb = roc_auc_score(y7_val, y_prob_gb)"
   ]
  },
  {
   "cell_type": "code",
   "execution_count": 54,
   "metadata": {},
   "outputs": [
    {
     "name": "stdout",
     "output_type": "stream",
     "text": [
      "Gradient Boost - AUC Score - Validation:  0.8093310933917655\n",
      "\n",
      "\n",
      "[[29625    61]\n",
      " [ 1713   577]]\n",
      "\n",
      "\n",
      "              precision    recall  f1-score   support\n",
      "\n",
      "         0.0       0.95      1.00      0.97     29686\n",
      "         1.0       0.90      0.25      0.39      2290\n",
      "\n",
      "    accuracy                           0.94     31976\n",
      "   macro avg       0.92      0.62      0.68     31976\n",
      "weighted avg       0.94      0.94      0.93     31976\n",
      "\n"
     ]
    }
   ],
   "source": [
    "print('Gradient Boost - AUC Score - Validation: ', auc_gb)\n",
    "print('\\n')\n",
    "print(confusion_matrix(y7_val, y_pred_gb))\n",
    "print('\\n')\n",
    "print(classification_report(y7_val, y_pred_gb))"
   ]
  },
  {
   "cell_type": "code",
   "execution_count": 55,
   "metadata": {},
   "outputs": [
    {
     "name": "stdout",
     "output_type": "stream",
     "text": [
      "Best estimator: \n",
      "{'ccp_alpha': 0.0, 'criterion': 'friedman_mse', 'init': None, 'learning_rate': 0.1, 'loss': 'deviance', 'max_depth': 7, 'max_features': 30, 'max_leaf_nodes': None, 'min_impurity_decrease': 0.0, 'min_impurity_split': None, 'min_samples_leaf': 1, 'min_samples_split': 0.4, 'min_weight_fraction_leaf': 0.0, 'n_estimators': 400, 'n_iter_no_change': None, 'presort': 'deprecated', 'random_state': None, 'subsample': 1.0, 'tol': 0.0001, 'validation_fraction': 0.1, 'verbose': 0, 'warm_start': False}\n",
      "\n",
      " Best score: \n",
      "0.8094969779629639\n",
      "\n",
      " Best parameters:\n",
      "{'n_estimators': 400, 'min_samples_split': 0.4, 'max_features': 30, 'max_depth': 7, 'learning_rate': 0.1}\n"
     ]
    }
   ],
   "source": [
    "print(\"Best estimator: \")\n",
    "print(gb_rs_cv.best_estimator_.get_params())\n",
    "print(\"\\n Best score: \")\n",
    "print(gb_rs_cv.best_score_)\n",
    "print(\"\\n Best parameters:\")\n",
    "print(gb_rs_cv.best_params_)"
   ]
  },
  {
   "cell_type": "markdown",
   "metadata": {},
   "source": [
    "## XGBoost"
   ]
  },
  {
   "cell_type": "code",
   "execution_count": 23,
   "metadata": {},
   "outputs": [],
   "source": [
    "xgb = XGBClassifier(nthread=-1)\n",
    "\n",
    "xgb_params = {\n",
    "    'learning_rate' : [0.01, 0.1, 1.0],\n",
    "    'subsample': [0.8, 0.85, 0.95, 1.0],\n",
    "    'max_depth' : [3, 4, 5, 6, 7],\n",
    "    'gamma' : [0, 1, 5], # regularization\n",
    "    'colsample_bytree' : [0.3, 0.4, 0.5, 0.6, 0.7, 0.8, 0.9],\n",
    "    'n_estimators' :[50, 100, 200, 400]\n",
    "}\n",
    "\n",
    "xgb_rs_cv = RandomizedSearchCV(xgb, xgb_params, random_state=3, cv=5, n_iter=20, n_jobs=-1, scoring='roc_auc')"
   ]
  },
  {
   "cell_type": "code",
   "execution_count": 24,
   "metadata": {},
   "outputs": [],
   "source": [
    "xgb_rs_cv.fit(X7_train, y7_train)\n",
    "y_pred_xgb = xgb_rs_cv.predict(X7_val)\n",
    "y_prob_xgb = xgb_rs_cv.predict_proba(X7_val)[:,1]\n",
    "auc_xgb = roc_auc_score(y7_val, y_prob_xgb)"
   ]
  },
  {
   "cell_type": "code",
   "execution_count": 25,
   "metadata": {},
   "outputs": [
    {
     "name": "stdout",
     "output_type": "stream",
     "text": [
      "XGBoost - AUC Score - Validation:  0.8104622707482421\n",
      "\n",
      "\n",
      "[[29628    58]\n",
      " [ 1713   577]]\n",
      "\n",
      "\n",
      "              precision    recall  f1-score   support\n",
      "\n",
      "         0.0       0.95      1.00      0.97     29686\n",
      "         1.0       0.91      0.25      0.39      2290\n",
      "\n",
      "    accuracy                           0.94     31976\n",
      "   macro avg       0.93      0.63      0.68     31976\n",
      "weighted avg       0.94      0.94      0.93     31976\n",
      "\n"
     ]
    }
   ],
   "source": [
    "print('XGBoost - AUC Score - Validation: ', auc_xgb)\n",
    "print('\\n')\n",
    "print(confusion_matrix(y7_val, y_pred_xgb))\n",
    "print('\\n')\n",
    "print(classification_report(y7_val, y_pred_xgb))"
   ]
  },
  {
   "cell_type": "code",
   "execution_count": 26,
   "metadata": {},
   "outputs": [
    {
     "name": "stdout",
     "output_type": "stream",
     "text": [
      "Best estimator: \n",
      "{'objective': 'binary:logistic', 'base_score': 0.5, 'booster': 'gbtree', 'colsample_bylevel': 1, 'colsample_bynode': 1, 'colsample_bytree': 0.6, 'gamma': 0, 'gpu_id': -1, 'importance_type': 'gain', 'interaction_constraints': '', 'learning_rate': 0.1, 'max_delta_step': 0, 'max_depth': 7, 'min_child_weight': 1, 'missing': nan, 'monotone_constraints': '()', 'n_estimators': 50, 'n_jobs': -1, 'num_parallel_tree': 1, 'random_state': 0, 'reg_alpha': 0, 'reg_lambda': 1, 'scale_pos_weight': 1, 'subsample': 0.95, 'tree_method': 'exact', 'validate_parameters': 1, 'verbosity': None, 'nthread': -1}\n",
      "\n",
      " Best score: \n",
      "0.8086551634182302\n",
      "\n",
      " Best parameters:\n",
      "{'subsample': 0.95, 'n_estimators': 50, 'max_depth': 7, 'learning_rate': 0.1, 'gamma': 0, 'colsample_bytree': 0.6}\n"
     ]
    }
   ],
   "source": [
    "print(\"Best estimator: \")\n",
    "print(xgb_rs_cv.best_estimator_.get_params())\n",
    "print(\"\\n Best score: \")\n",
    "print(xgb_rs_cv.best_score_)\n",
    "print(\"\\n Best parameters:\")\n",
    "print(xgb_rs_cv.best_params_)"
   ]
  },
  {
   "cell_type": "markdown",
   "metadata": {},
   "source": [
    "---\n",
    "# ROC Curve"
   ]
  },
  {
   "cell_type": "code",
   "execution_count": 56,
   "metadata": {},
   "outputs": [],
   "source": [
    "y_prob_ns = [0 for _ in range(len(y7_val))]\n",
    "\n",
    "ns_fpr, ns_tpr, _ = roc_curve(y7_val, y_prob_ns)\n",
    "log_fpr, log_tpr, _ = roc_curve(y7_val, y_prob_log)\n",
    "rf_fpr, rf_tpr, _ = roc_curve(y7_val, y_prob_rf)\n",
    "gb_fpr, gb_tpr, _ = roc_curve(y7_val, y_prob_gb)\n",
    "xgb_fpr, xgb_tpr, _ = roc_curve(y7_val, y_prob_xgb)\n"
   ]
  },
  {
   "cell_type": "code",
   "execution_count": 77,
   "metadata": {},
   "outputs": [
    {
     "data": {
      "image/png": "[encoded data removed]",
      "text/plain": [
       "<Figure size 504x432 with 1 Axes>"
      ]
     },
     "metadata": {},
     "output_type": "display_data"
    }
   ],
   "source": [
    "fig, ax = plt.subplots(figsize=(7,6))\n",
    "\n",
    "fpr_arr = [ns_fpr, log_fpr, rf_fpr, gb_fpr, xgb_fpr,]\n",
    "tpr_arr = [ns_tpr, log_tpr, rf_tpr, gb_tpr, xgb_tpr]\n",
    "colors = ['k:', 'g', 'b', 'r--', 'c--' ]\n",
    "names = ['No Skill', 'Logistic Regression', 'Random Forest', 'Gradient Boost', 'XGBoost']\n",
    "\n",
    "\n",
    "for f, t, c, n in zip(fpr_arr, tpr_arr, colors, names):\n",
    "    ax.plot(f, t, c, label=n, linewidth=2)\n",
    "\n",
    "ax.set_title('ROC Curve', fontsize=26, fontweight='bold')\n",
    "ax.set_xlabel('FPR', fontsize=12)\n",
    "ax.set_ylabel('TPR', fontsize=12)\n",
    "ax.set_xlim(-0.02, 1.02)\n",
    "ax.set_ylim(-0.02, 1.02)\n",
    "ax.legend(loc='lower right')\n",
    "plt.tight_layout();\n",
    "# plt.savefig('images/roc_curve.png')"
   ]
  },
  {
   "cell_type": "markdown",
   "metadata": {},
   "source": [
    "---\n",
    "# Precision Recall Curve"
   ]
  },
  {
   "cell_type": "code",
   "execution_count": 66,
   "metadata": {},
   "outputs": [
    {
     "data": {
      "image/png": "[encoded data removed]",
      "text/plain": [
       "<Figure size 432x432 with 1 Axes>"
      ]
     },
     "metadata": {},
     "output_type": "display_data"
    }
   ],
   "source": [
    "no_skill = len(y7_val[y7_val==1]) / len(y7_val)\n",
    "log_pre, log_rec, log_thresh = precision_recall_curve(y7_val, y_prob_log)\n",
    "rf_pre, rf_rec, rf_thresh = precision_recall_curve(y7_val, y_prob_rf)\n",
    "gb_pre, gb_rec, gb_thresh = precision_recall_curve(y7_val, y_prob_gb)\n",
    "xgb_pre, xgb_rec, xgb_thresh = precision_recall_curve(y7_val, y_prob_xgb)\n",
    "\n",
    "pre_arr = [no_skill, log_pre, rf_pre, gb_pre, xgb_pre]\n",
    "rec_arr = [no_skill, log_rec, rf_rec, gb_rec, xgb_rec]\n",
    "\n",
    "fig, ax = plt.subplots(figsize=(6,6))\n",
    "\n",
    "for r, p, c, n in zip(rec_arr, pre_arr, colors, names):\n",
    "    ax.plot(r, p, c, label=n)\n",
    "\n",
    "ax.set_title('Precision-Recall Curve', fontsize=20, fontweight='bold')\n",
    "ax.set_xlabel('Recall', fontsize=12)\n",
    "ax.set_ylabel('Precision', fontsize=12)\n",
    "ax.legend()\n",
    "plt.tight_layout();"
   ]
  },
  {
   "cell_type": "code",
   "execution_count": null,
   "metadata": {},
   "outputs": [],
   "source": []
  },
  {
   "cell_type": "markdown",
   "metadata": {},
   "source": [
    "---\n",
    "# README EDA"
   ]
  },
  {
   "cell_type": "code",
   "execution_count": 85,
   "metadata": {},
   "outputs": [
    {
     "data": {
      "image/png": "[encoded data removed]",
      "text/plain": [
       "<Figure size 432x288 with 2 Axes>"
      ]
     },
     "metadata": {},
     "output_type": "display_data"
    }
   ],
   "source": [
    "plt.plot(figsize=(6,6))\n",
    "sns.heatmap(confusion_matrix(y7_val, y_pred_xgb), annot=True, cmap=\"coolwarm\", fmt='#', annot_kws={'fontsize':14, 'fontweight':'bold'})\n",
    "plt.tight_layout();"
   ]
  },
  {
   "cell_type": "code",
   "execution_count": 117,
   "metadata": {},
   "outputs": [
    {
     "data": {
      "image/png": "[encoded data removed]",
      "text/plain": [
       "<Figure size 720x360 with 1 Axes>"
      ]
     },
     "metadata": {
      "needs_background": "light"
     },
     "output_type": "display_data"
    }
   ],
   "source": [
    "plt.figure(figsize=(10,5))\n",
    "sns.countplot(x='detroit_address', data=train2, hue='compliance')\n",
    "plt.title('Compliance by City', fontsize=22)\n",
    "plt.legend(['Noncompliant', 'Compliant'])\n",
    "plt.tight_layout();"
   ]
  },
  {
   "cell_type": "code",
   "execution_count": 115,
   "metadata": {},
   "outputs": [
    {
     "data": {
      "image/png": "[encoded data removed]",
      "text/plain": [
       "<Figure size 1080x360 with 1 Axes>"
      ]
     },
     "metadata": {
      "needs_background": "light"
     },
     "output_type": "display_data"
    }
   ],
   "source": [
    "plt.figure(figsize=(15,5))\n",
    "sns.countplot(x='agency_name', data=train2, hue='compliance', )\n",
    "plt.title('Compliance by Agency Name', fontsize=22)\n",
    "plt.legend(['Noncompliant', 'Compliant'])\n",
    "plt.tight_layout();"
   ]
  },
  {
   "cell_type": "code",
   "execution_count": 116,
   "metadata": {},
   "outputs": [
    {
     "data": {
      "image/png": "[encoded data removed]",
      "text/plain": [
       "<Figure size 1080x360 with 1 Axes>"
      ]
     },
     "metadata": {
      "needs_background": "light"
     },
     "output_type": "display_data"
    }
   ],
   "source": [
    "# How can someone be noncompliant if fine was waived?\n",
    "plt.figure(figsize=(15,5))\n",
    "sns.countplot(x='disposition', data=train2, hue='compliance')\n",
    "plt.title('Compliance by Disposition', fontsize=22)\n",
    "plt.legend(['Noncompliant', 'Compliant'])\n",
    "plt.tight_layout()"
   ]
  }
 ],
 "metadata": {
  "coursera": {
   "course_slug": "python-machine-learning",
   "graded_item_id": "nNS8l",
   "launcher_item_id": "yWWk7",
   "part_id": "w8BSS"
  },
  "kernelspec": {
   "display_name": "conda_python3",
   "language": "python",
   "name": "conda_python3"
  },
  "language_info": {
   "codemirror_mode": {
    "name": "ipython",
    "version": 3
   },
   "file_extension": ".py",
   "mimetype": "text/x-python",
   "name": "python",
   "nbconvert_exporter": "python",
   "pygments_lexer": "ipython3",
   "version": "3.6.5"
  }
 },
 "nbformat": 4,
 "nbformat_minor": 4
}
