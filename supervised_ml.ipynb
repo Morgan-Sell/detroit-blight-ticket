{
 "cells": [
  {
   "cell_type": "markdown",
   "metadata": {},
   "source": [
    "---\n",
    "\n",
    "_You are currently looking at **version 1.1** of this notebook. To download notebooks and datafiles, as well as get help on Jupyter notebooks in the Coursera platform, visit the [Jupyter Notebook FAQ](https://www.coursera.org/learn/python-machine-learning/resources/bANLa) course resource._\n",
    "\n",
    "---"
   ]
  },
  {
   "cell_type": "markdown",
   "metadata": {},
   "source": [
    "## Assignment 4 - Understanding and Predicting Property Maintenance Fines\n",
    "\n",
    "This assignment is based on a data challenge from the Michigan Data Science Team ([MDST](http://midas.umich.edu/mdst/)). \n",
    "\n",
    "The Michigan Data Science Team ([MDST](http://midas.umich.edu/mdst/)) and the Michigan Student Symposium for Interdisciplinary Statistical Sciences ([MSSISS](https://sites.lsa.umich.edu/mssiss/)) have partnered with the City of Detroit to help solve one of the most pressing problems facing Detroit - blight. [Blight violations](http://www.detroitmi.gov/How-Do-I/Report/Blight-Complaint-FAQs) are issued by the city to individuals who allow their properties to remain in a deteriorated condition. Every year, the city of Detroit issues millions of dollars in fines to residents and every year, many of these fines remain unpaid. Enforcing unpaid blight fines is a costly and tedious process, so the city wants to know: how can we increase blight ticket compliance?\n",
    "\n",
    "The first step in answering this question is understanding when and why a resident might fail to comply with a blight ticket. This is where predictive modeling comes in. For this assignment, your task is to predict whether a given blight ticket will be paid on time.\n",
    "\n",
    "All data for this assignment has been provided to us through the [Detroit Open Data Portal](https://data.detroitmi.gov/). **Only the data already included in your Coursera directory can be used for training the model for this assignment.** Nonetheless, we encourage you to look into data from other Detroit datasets to help inform feature creation and model selection. We recommend taking a look at the following related datasets:\n",
    "\n",
    "* [Building Permits](https://data.detroitmi.gov/Property-Parcels/Building-Permits/xw2a-a7tf)\n",
    "* [Trades Permits](https://data.detroitmi.gov/Property-Parcels/Trades-Permits/635b-dsgv)\n",
    "* [Improve Detroit: Submitted Issues](https://data.detroitmi.gov/Government/Improve-Detroit-Submitted-Issues/fwz3-w3yn)\n",
    "* [DPD: Citizen Complaints](https://data.detroitmi.gov/Public-Safety/DPD-Citizen-Complaints-2016/kahe-efs3)\n",
    "* [Parcel Map](https://data.detroitmi.gov/Property-Parcels/Parcel-Map/fxkw-udwf)\n",
    "\n",
    "___\n",
    "\n",
    "We provide you with two data files for use in training and validating your models: train.csv and test.csv. Each row in these two files corresponds to a single blight ticket, and includes information about when, why, and to whom each ticket was issued. The target variable is compliance, which is True if the ticket was paid early, on time, or within one month of the hearing data, False if the ticket was paid after the hearing date or not at all, and Null if the violator was found not responsible. Compliance, as well as a handful of other variables that will not be available at test-time, are only included in train.csv.\n",
    "\n",
    "**Note: All tickets where the violators were found not responsible are not considered during evaluation. They are included in the training set as an additional source of data for visualization, and to enable unsupervised and semi-supervised approaches. However, they are not included in the test set.**\n",
    "\n",
    "<br>\n",
    "\n",
    "**File descriptions** (Use only this data for training your model!)\n",
    "\n",
    "    readonly/train.csv - the training set (all tickets issued 2004-2011)\n",
    "    readonly/test.csv - the test set (all tickets issued 2012-2016)\n",
    "    readonly/addresses.csv & readonly/latlons.csv - mapping from ticket id to addresses, and from addresses to lat/lon coordinates. \n",
    "     Note: misspelled addresses may be incorrectly geolocated.\n",
    "\n",
    "<br>\n",
    "\n",
    "**Data fields**\n",
    "\n",
    "train.csv & test.csv\n",
    "\n",
    "    ticket_id - unique identifier for tickets\n",
    "    agency_name - Agency that issued the ticket\n",
    "    inspector_name - Name of inspector that issued the ticket\n",
    "    violator_name - Name of the person/organization that the ticket was issued to\n",
    "    violation_street_number, violation_street_name, violation_zip_code - Address where the violation occurred\n",
    "    mailing_address_str_number, mailing_address_str_name, city, state, zip_code, non_us_str_code, country - Mailing address of the violator\n",
    "    ticket_issued_date - Date and time the ticket was issued\n",
    "    hearing_date - Date and time the violator's hearing was scheduled\n",
    "    violation_code, violation_description - Type of violation\n",
    "    disposition - Judgment and judgement type\n",
    "    fine_amount - Violation fine amount, excluding fees\n",
    "    admin_fee - $20 fee assigned to responsible judgments\n",
    "state_fee - $10 fee assigned to responsible judgments\n",
    "    late_fee - 10% fee assigned to responsible judgments\n",
    "    discount_amount - discount applied, if any\n",
    "    clean_up_cost - DPW clean-up or graffiti removal cost\n",
    "    judgment_amount - Sum of all fines and fees\n",
    "    grafitti_status - Flag for graffiti violations\n",
    "    \n",
    "train.csv only\n",
    "\n",
    "    payment_amount - Amount paid, if any\n",
    "    payment_date - Date payment was made, if it was received\n",
    "    payment_status - Current payment status as of Feb 1 2017\n",
    "    balance_due - Fines and fees still owed\n",
    "    collection_status - Flag for payments in collections\n",
    "    compliance [target variable for prediction] \n",
    "     Null = Not responsible\n",
    "     0 = Responsible, non-compliant\n",
    "     1 = Responsible, compliant\n",
    "    compliance_detail - More information on why each ticket was marked compliant or non-compliant\n",
    "\n",
    "\n",
    "___\n",
    "\n",
    "## Evaluation\n",
    "\n",
    "Your predictions will be given as the probability that the corresponding blight ticket will be paid on time.\n",
    "\n",
    "**The evaluation metric for this assignment is the Area Under the ROC Curve (AUC).** \n",
    "\n",
    "**Your grade will be based on the AUC score computed for your classifier. A model which with an AUROC of 0.7 passes this assignment, over 0.75 will recieve full points.**\n",
    "___\n",
    "\n",
    "For this assignment, create a function that trains a model to predict blight ticket compliance in Detroit using `readonly/train.csv`. Using this model, **return a series of length 61001 with the data being the probability that each corresponding ticket from `readonly/test.csv` will be paid, and the index being the ticket_id.**\n",
    "\n",
    "Example:\n",
    "\n",
    "    ticket_id\n",
    "       284932    0.531842\n",
    "       285362    0.401958\n",
    "       285361    0.105928\n",
    "       285338    0.018572\n",
    "                 ...\n",
    "       376499    0.208567\n",
    "       376500    0.818759\n",
    "       369851    0.018528\n",
    "       Name: compliance, dtype: float32\n",
    "       \n",
    "### Hints\n",
    "\n",
    "* Make sure your code is working before submitting it to the autograder.\n",
    "\n",
    "* Print out your result to see whether there is anything weird (e.g., all probabilities are the same).\n",
    "\n",
    "* Generally the total runtime should be less than 10 mins. You should NOT use Neural Network related classifiers (e.g., MLPClassifier) in this question. \n",
    "\n",
    "* Try to avoid global variables. If you have other functions besides blight_model, you should move those functions inside the scope of blight_model.\n",
    "\n",
    "* Refer to the pinned threads in Week 4's discussion forum when there is something you could not figure it out."
   ]
  },
  {
   "cell_type": "markdown",
   "metadata": {},
   "source": [
    "## ROC Curve and Area Under the Curve (AUC) Explained\n",
    "\n",
    "- Used to visualize the performance of a binary classifier.\n",
    "- Use logistic regression to develop a prediction and probability of the likelihood of the prediction.\n",
    "<br><br>\n",
    "- ROC plots the the FPR on the x-axis and the TPR on the y-axis for every possible classification threshold.\n",
    "- TPR = True Positives / All Positives answers the question **When the actual classification is positive, how often does the model predict postive?**\n",
    "- FPR = False Positive / All Negatives answers the question **When the actual classification is negative, how often does the model incorrectly predict positive?**"
   ]
  },
  {
   "cell_type": "markdown",
   "metadata": {},
   "source": [
    "## Approach:\n",
    "\n",
    "- What features are most relevant?\n",
    "- Most likely need to map lattitude and longitude to blight-ticket compliance data.\n",
    "- How should I explore the data?\n",
    "- What to do with null compliant values?\n",
    "- Seems to be a relationship between judgement_amount and compliance\n",
    "- How does location play a role?"
   ]
  },
  {
   "cell_type": "markdown",
   "metadata": {},
   "source": [
    "### Notes\n",
    "\n",
    "**Tranforming String Objects to Quantitative Data**\n",
    "- Use `LabelEncoder` or `OneHotEncoder` to translate categorical features to numerical values to use with sklearn.\n",
    "- `LabelEncoder` assigns laber a with a value between 0 and n_classes-1. n is the # of distinct labels.\n",
    "- When use `LabelEcoder` to transform to numerical value, must inform model that the numerical values are categorical. Do not want the model to assume correlations when not appropriate.\n",
    "- By using `OneHotEncoder`, I can prevent the model from believing that the new numerical values are hiearchical.\n",
    "- `OneHotEncoder` takes the econded columnas and divides it into multiple columns assigning 1s and 0s to the columns, depending on the columns' values.\n"
   ]
  },
  {
   "cell_type": "markdown",
   "metadata": {},
   "source": [
    "## IMPORTANT CONCLUSION\n",
    "\n",
    "- Calculate `y_prob`, **not** `y_pred`, by using `predict_proba()`, **not** `predict()`.\n",
    "- Adjust `y_prob` when calculating FPR and TPR - `roc_curve(y_test, y_prob[:,1])`.\n",
    "- Use `[:,1]` b/c `predict_proba()` returns a probability matrix of dimension (N,2). The first index refers to the probability that the data belong to class 0, and the second refers to the probability that the data belong to class 1.\n",
    "- FPR and TPR are used to calculate AUC."
   ]
  },
  {
   "cell_type": "code",
   "execution_count": 61,
   "metadata": {},
   "outputs": [],
   "source": [
    "import pandas as pd\n",
    "import numpy as np\n",
    "import matplotlib.pyplot as plt\n",
    "%matplotlib inline\n",
    "from pandas.plotting import scatter_matrix\n",
    "import seaborn as sns\n",
    "\n",
    "\n",
    "from sklearn.model_selection import train_test_split, RandomizedSearchCV, KFold, cross_val_score\n",
    "from sklearn.preprocessing import StandardScaler\n",
    "from sklearn.metrics import roc_auc_score, auc, confusion_matrix, f1_score\n",
    "\n",
    "from sklearn.linear_model import LogisticRegression\n",
    "from sklearn.ensemble import GradientBoostingClassifier, RandomForestClassifier \n",
    "import xgboost as xgb\n",
    "\n",
    "\n",
    "from imblearn.under_sampling import RandomUnderSampler, CondensedNearestNeighbour, TomekLinks\n",
    "from imblearn.over_sampling import RandomOverSampler\n",
    "\n"
   ]
  },
  {
   "cell_type": "code",
   "execution_count": null,
   "metadata": {},
   "outputs": [],
   "source": []
  },
  {
   "cell_type": "markdown",
   "metadata": {},
   "source": [
    "---\n",
    "# Data Import and Processing\n"
   ]
  },
  {
   "cell_type": "code",
   "execution_count": 5,
   "metadata": {},
   "outputs": [],
   "source": [
    "train = pd.read_csv('data/train.csv', engine='python')\n",
    "test = pd.read_csv('data/test.csv', engine='python')\n",
    "address = pd.read_csv('data/addresses.csv', engine='python')\n",
    "lat_lons = pd.read_csv('data/latlons.csv', engine='python')"
   ]
  },
  {
   "cell_type": "code",
   "execution_count": 6,
   "metadata": {},
   "outputs": [
    {
     "data": {
      "text/html": [
       "<div>\n",
       "<style scoped>\n",
       "    .dataframe tbody tr th:only-of-type {\n",
       "        vertical-align: middle;\n",
       "    }\n",
       "\n",
       "    .dataframe tbody tr th {\n",
       "        vertical-align: top;\n",
       "    }\n",
       "\n",
       "    .dataframe thead th {\n",
       "        text-align: right;\n",
       "    }\n",
       "</style>\n",
       "<table border=\"1\" class=\"dataframe\">\n",
       "  <thead>\n",
       "    <tr style=\"text-align: right;\">\n",
       "      <th></th>\n",
       "      <th>ticket_id</th>\n",
       "      <th>address</th>\n",
       "    </tr>\n",
       "  </thead>\n",
       "  <tbody>\n",
       "    <tr>\n",
       "      <td>0</td>\n",
       "      <td>22056</td>\n",
       "      <td>2900 tyler, Detroit MI</td>\n",
       "    </tr>\n",
       "    <tr>\n",
       "      <td>1</td>\n",
       "      <td>27586</td>\n",
       "      <td>4311 central, Detroit MI</td>\n",
       "    </tr>\n",
       "    <tr>\n",
       "      <td>2</td>\n",
       "      <td>22062</td>\n",
       "      <td>1449 longfellow, Detroit MI</td>\n",
       "    </tr>\n",
       "    <tr>\n",
       "      <td>3</td>\n",
       "      <td>22084</td>\n",
       "      <td>1441 longfellow, Detroit MI</td>\n",
       "    </tr>\n",
       "    <tr>\n",
       "      <td>4</td>\n",
       "      <td>22093</td>\n",
       "      <td>2449 churchill, Detroit MI</td>\n",
       "    </tr>\n",
       "  </tbody>\n",
       "</table>\n",
       "</div>"
      ],
      "text/plain": [
       "   ticket_id                      address\n",
       "0      22056       2900 tyler, Detroit MI\n",
       "1      27586     4311 central, Detroit MI\n",
       "2      22062  1449 longfellow, Detroit MI\n",
       "3      22084  1441 longfellow, Detroit MI\n",
       "4      22093   2449 churchill, Detroit MI"
      ]
     },
     "execution_count": 6,
     "metadata": {},
     "output_type": "execute_result"
    }
   ],
   "source": [
    "address.head()"
   ]
  },
  {
   "cell_type": "code",
   "execution_count": 7,
   "metadata": {},
   "outputs": [
    {
     "data": {
      "text/html": [
       "<div>\n",
       "<style scoped>\n",
       "    .dataframe tbody tr th:only-of-type {\n",
       "        vertical-align: middle;\n",
       "    }\n",
       "\n",
       "    .dataframe tbody tr th {\n",
       "        vertical-align: top;\n",
       "    }\n",
       "\n",
       "    .dataframe thead th {\n",
       "        text-align: right;\n",
       "    }\n",
       "</style>\n",
       "<table border=\"1\" class=\"dataframe\">\n",
       "  <thead>\n",
       "    <tr style=\"text-align: right;\">\n",
       "      <th></th>\n",
       "      <th>address</th>\n",
       "      <th>lat</th>\n",
       "      <th>lon</th>\n",
       "    </tr>\n",
       "  </thead>\n",
       "  <tbody>\n",
       "    <tr>\n",
       "      <td>0</td>\n",
       "      <td>4300 rosa parks blvd, Detroit MI 48208</td>\n",
       "      <td>42.346169</td>\n",
       "      <td>-83.079962</td>\n",
       "    </tr>\n",
       "    <tr>\n",
       "      <td>1</td>\n",
       "      <td>14512 sussex, Detroit MI</td>\n",
       "      <td>42.394657</td>\n",
       "      <td>-83.194265</td>\n",
       "    </tr>\n",
       "    <tr>\n",
       "      <td>2</td>\n",
       "      <td>3456 garland, Detroit MI</td>\n",
       "      <td>42.373779</td>\n",
       "      <td>-82.986228</td>\n",
       "    </tr>\n",
       "    <tr>\n",
       "      <td>3</td>\n",
       "      <td>5787 wayburn, Detroit MI</td>\n",
       "      <td>42.403342</td>\n",
       "      <td>-82.957805</td>\n",
       "    </tr>\n",
       "    <tr>\n",
       "      <td>4</td>\n",
       "      <td>5766 haverhill, Detroit MI</td>\n",
       "      <td>42.407255</td>\n",
       "      <td>-82.946295</td>\n",
       "    </tr>\n",
       "  </tbody>\n",
       "</table>\n",
       "</div>"
      ],
      "text/plain": [
       "                                  address        lat        lon\n",
       "0  4300 rosa parks blvd, Detroit MI 48208  42.346169 -83.079962\n",
       "1                14512 sussex, Detroit MI  42.394657 -83.194265\n",
       "2                3456 garland, Detroit MI  42.373779 -82.986228\n",
       "3                5787 wayburn, Detroit MI  42.403342 -82.957805\n",
       "4              5766 haverhill, Detroit MI  42.407255 -82.946295"
      ]
     },
     "execution_count": 7,
     "metadata": {},
     "output_type": "execute_result"
    }
   ],
   "source": [
    "lat_lons.head()"
   ]
  },
  {
   "cell_type": "code",
   "execution_count": 12,
   "metadata": {},
   "outputs": [
    {
     "data": {
      "image/png": "[encoded data removed]",
      "text/plain": [
       "<Figure size 864x432 with 1 Axes>"
      ]
     },
     "metadata": {
      "needs_background": "light"
     },
     "output_type": "display_data"
    }
   ],
   "source": [
    "plt.figure(figsize=(12,6))\n",
    "sns.heatmap(train.isnull(), yticklabels=False, cbar=False, cmap='viridis')\n",
    "plt.title('Train Data', fontsize=22)\n",
    "plt.tight_layout();"
   ]
  },
  {
   "cell_type": "code",
   "execution_count": 11,
   "metadata": {},
   "outputs": [
    {
     "data": {
      "text/html": [
       "<div>\n",
       "<style scoped>\n",
       "    .dataframe tbody tr th:only-of-type {\n",
       "        vertical-align: middle;\n",
       "    }\n",
       "\n",
       "    .dataframe tbody tr th {\n",
       "        vertical-align: top;\n",
       "    }\n",
       "\n",
       "    .dataframe thead th {\n",
       "        text-align: right;\n",
       "    }\n",
       "</style>\n",
       "<table border=\"1\" class=\"dataframe\">\n",
       "  <thead>\n",
       "    <tr style=\"text-align: right;\">\n",
       "      <th></th>\n",
       "      <th>ticket_id</th>\n",
       "      <th>agency_name</th>\n",
       "      <th>inspector_name</th>\n",
       "      <th>violator_name</th>\n",
       "      <th>violation_street_number</th>\n",
       "      <th>violation_street_name</th>\n",
       "      <th>violation_zip_code</th>\n",
       "      <th>mailing_address_str_number</th>\n",
       "      <th>mailing_address_str_name</th>\n",
       "      <th>city</th>\n",
       "      <th>...</th>\n",
       "      <th>violation_description</th>\n",
       "      <th>disposition</th>\n",
       "      <th>fine_amount</th>\n",
       "      <th>admin_fee</th>\n",
       "      <th>state_fee</th>\n",
       "      <th>late_fee</th>\n",
       "      <th>discount_amount</th>\n",
       "      <th>clean_up_cost</th>\n",
       "      <th>judgment_amount</th>\n",
       "      <th>grafitti_status</th>\n",
       "    </tr>\n",
       "  </thead>\n",
       "  <tbody>\n",
       "    <tr>\n",
       "      <td>0</td>\n",
       "      <td>284932</td>\n",
       "      <td>Department of Public Works</td>\n",
       "      <td>Granberry, Aisha B</td>\n",
       "      <td>FLUELLEN, JOHN A</td>\n",
       "      <td>10041.0</td>\n",
       "      <td>ROSEBERRY</td>\n",
       "      <td>NaN</td>\n",
       "      <td>141</td>\n",
       "      <td>ROSEBERRY</td>\n",
       "      <td>DETROIT</td>\n",
       "      <td>...</td>\n",
       "      <td>Failure to secure City or Private solid waste ...</td>\n",
       "      <td>Responsible by Default</td>\n",
       "      <td>200.0</td>\n",
       "      <td>20.0</td>\n",
       "      <td>10.0</td>\n",
       "      <td>20.0</td>\n",
       "      <td>0.0</td>\n",
       "      <td>0.0</td>\n",
       "      <td>250.0</td>\n",
       "      <td>NaN</td>\n",
       "    </tr>\n",
       "    <tr>\n",
       "      <td>1</td>\n",
       "      <td>285362</td>\n",
       "      <td>Department of Public Works</td>\n",
       "      <td>Lusk, Gertrina</td>\n",
       "      <td>WHIGHAM, THELMA</td>\n",
       "      <td>18520.0</td>\n",
       "      <td>EVERGREEN</td>\n",
       "      <td>NaN</td>\n",
       "      <td>19136</td>\n",
       "      <td>GLASTONBURY</td>\n",
       "      <td>DETROIT</td>\n",
       "      <td>...</td>\n",
       "      <td>Allowing bulk solid waste to lie or accumulate...</td>\n",
       "      <td>Responsible by Default</td>\n",
       "      <td>1000.0</td>\n",
       "      <td>20.0</td>\n",
       "      <td>10.0</td>\n",
       "      <td>100.0</td>\n",
       "      <td>0.0</td>\n",
       "      <td>0.0</td>\n",
       "      <td>1130.0</td>\n",
       "      <td>NaN</td>\n",
       "    </tr>\n",
       "  </tbody>\n",
       "</table>\n",
       "<p>2 rows × 27 columns</p>\n",
       "</div>"
      ],
      "text/plain": [
       "   ticket_id                 agency_name      inspector_name  \\\n",
       "0     284932  Department of Public Works  Granberry, Aisha B   \n",
       "1     285362  Department of Public Works      Lusk, Gertrina   \n",
       "\n",
       "      violator_name  violation_street_number violation_street_name  \\\n",
       "0  FLUELLEN, JOHN A                  10041.0             ROSEBERRY   \n",
       "1   WHIGHAM, THELMA                  18520.0             EVERGREEN   \n",
       "\n",
       "  violation_zip_code mailing_address_str_number mailing_address_str_name  \\\n",
       "0                NaN                        141                ROSEBERRY   \n",
       "1                NaN                      19136              GLASTONBURY   \n",
       "\n",
       "      city  ...                              violation_description  \\\n",
       "0  DETROIT  ...  Failure to secure City or Private solid waste ...   \n",
       "1  DETROIT  ...  Allowing bulk solid waste to lie or accumulate...   \n",
       "\n",
       "              disposition  fine_amount admin_fee state_fee late_fee  \\\n",
       "0  Responsible by Default        200.0      20.0      10.0     20.0   \n",
       "1  Responsible by Default       1000.0      20.0      10.0    100.0   \n",
       "\n",
       "  discount_amount clean_up_cost judgment_amount  grafitti_status  \n",
       "0             0.0           0.0           250.0              NaN  \n",
       "1             0.0           0.0          1130.0              NaN  \n",
       "\n",
       "[2 rows x 27 columns]"
      ]
     },
     "execution_count": 11,
     "metadata": {},
     "output_type": "execute_result"
    }
   ],
   "source": [
    "test.head(2)"
   ]
  },
  {
   "cell_type": "code",
   "execution_count": 24,
   "metadata": {},
   "outputs": [
    {
     "data": {
      "text/html": [
       "<div>\n",
       "<style scoped>\n",
       "    .dataframe tbody tr th:only-of-type {\n",
       "        vertical-align: middle;\n",
       "    }\n",
       "\n",
       "    .dataframe tbody tr th {\n",
       "        vertical-align: top;\n",
       "    }\n",
       "\n",
       "    .dataframe thead th {\n",
       "        text-align: right;\n",
       "    }\n",
       "</style>\n",
       "<table border=\"1\" class=\"dataframe\">\n",
       "  <thead>\n",
       "    <tr style=\"text-align: right;\">\n",
       "      <th></th>\n",
       "      <th>state</th>\n",
       "      <th>zip_code</th>\n",
       "      <th>non_us_str_code</th>\n",
       "      <th>country</th>\n",
       "      <th>ticket_issued_date</th>\n",
       "      <th>hearing_date</th>\n",
       "      <th>violation_code</th>\n",
       "      <th>violation_description</th>\n",
       "      <th>disposition</th>\n",
       "      <th>fine_amount</th>\n",
       "      <th>admin_fee</th>\n",
       "      <th>state_fee</th>\n",
       "      <th>late_fee</th>\n",
       "      <th>discount_amount</th>\n",
       "      <th>clean_up_cost</th>\n",
       "    </tr>\n",
       "  </thead>\n",
       "  <tbody>\n",
       "    <tr>\n",
       "      <td>0</td>\n",
       "      <td>MI</td>\n",
       "      <td>48213</td>\n",
       "      <td>NaN</td>\n",
       "      <td>USA</td>\n",
       "      <td>2012-01-04 14:00:00</td>\n",
       "      <td>2012-01-19 09:00:00</td>\n",
       "      <td>22-2-61</td>\n",
       "      <td>Failure to secure City or Private solid waste ...</td>\n",
       "      <td>Responsible by Default</td>\n",
       "      <td>200.0</td>\n",
       "      <td>20.0</td>\n",
       "      <td>10.0</td>\n",
       "      <td>20.0</td>\n",
       "      <td>0.0</td>\n",
       "      <td>0.0</td>\n",
       "    </tr>\n",
       "    <tr>\n",
       "      <td>1</td>\n",
       "      <td>MI</td>\n",
       "      <td>48219</td>\n",
       "      <td>NaN</td>\n",
       "      <td>USA</td>\n",
       "      <td>2012-01-05 09:50:00</td>\n",
       "      <td>2012-02-06 09:00:00</td>\n",
       "      <td>22-2-88(b)</td>\n",
       "      <td>Allowing bulk solid waste to lie or accumulate...</td>\n",
       "      <td>Responsible by Default</td>\n",
       "      <td>1000.0</td>\n",
       "      <td>20.0</td>\n",
       "      <td>10.0</td>\n",
       "      <td>100.0</td>\n",
       "      <td>0.0</td>\n",
       "      <td>0.0</td>\n",
       "    </tr>\n",
       "  </tbody>\n",
       "</table>\n",
       "</div>"
      ],
      "text/plain": [
       "  state zip_code  non_us_str_code country   ticket_issued_date  \\\n",
       "0    MI    48213              NaN     USA  2012-01-04 14:00:00   \n",
       "1    MI    48219              NaN     USA  2012-01-05 09:50:00   \n",
       "\n",
       "          hearing_date violation_code  \\\n",
       "0  2012-01-19 09:00:00        22-2-61   \n",
       "1  2012-02-06 09:00:00     22-2-88(b)   \n",
       "\n",
       "                               violation_description             disposition  \\\n",
       "0  Failure to secure City or Private solid waste ...  Responsible by Default   \n",
       "1  Allowing bulk solid waste to lie or accumulate...  Responsible by Default   \n",
       "\n",
       "   fine_amount  admin_fee  state_fee  late_fee  discount_amount  clean_up_cost  \n",
       "0        200.0       20.0       10.0      20.0              0.0            0.0  \n",
       "1       1000.0       20.0       10.0     100.0              0.0            0.0  "
      ]
     },
     "execution_count": 24,
     "metadata": {},
     "output_type": "execute_result"
    }
   ],
   "source": [
    "test.iloc[:,10:25].head(2)"
   ]
  },
  {
   "cell_type": "code",
   "execution_count": 46,
   "metadata": {},
   "outputs": [],
   "source": [
    "def plot_null_values(df, title):\n",
    "    plt.figure(figsize=(12,6))\n",
    "    sns.heatmap(df.isnull(), yticklabels=False, cbar=False, cmap='viridis')\n",
    "    plt.title(title, fontsize=22)\n",
    "    plt.tight_layout();"
   ]
  },
  {
   "cell_type": "code",
   "execution_count": 15,
   "metadata": {},
   "outputs": [
    {
     "data": {
      "image/png": "[encoded data removed]",
      "text/plain": [
       "<Figure size 864x432 with 1 Axes>"
      ]
     },
     "metadata": {
      "needs_background": "light"
     },
     "output_type": "display_data"
    }
   ],
   "source": [
    "train2 = train[train['compliance'].isnull() == False].copy()\n",
    "plt.figure(figsize=(12,6))\n",
    "sns.heatmap(train2.isnull(), yticklabels=False, cbar=False, cmap='viridis')\n",
    "plt.title('Train 2 Data', fontsize=22)\n",
    "plt.tight_layout();"
   ]
  },
  {
   "cell_type": "code",
   "execution_count": 40,
   "metadata": {},
   "outputs": [
    {
     "name": "stdout",
     "output_type": "stream",
     "text": [
      "Percent of Total Property Owners that are Compliant:  0.07254\n",
      "Percent of Total Property Owners that are Noncompliant:  0.92746\n"
     ]
    }
   ],
   "source": [
    "prcnt_non_compliant = round(sum(train2['compliance']) / len(train2['compliance']), 5)\n",
    "print('Percent of Total Property Owners that are Compliant: ', prcnt_non_compliant)\n",
    "print('Percent of Total Property Owners that are Noncompliant: ', 1 - prcnt_non_compliant)"
   ]
  },
  {
   "cell_type": "code",
   "execution_count": 29,
   "metadata": {},
   "outputs": [],
   "source": [
    "def create_bool_col(x, val):\n",
    "    if x == val:\n",
    "        boolean = 1\n",
    "    else:\n",
    "        boolean = 0\n",
    "    return boolean"
   ]
  },
  {
   "cell_type": "code",
   "execution_count": 42,
   "metadata": {},
   "outputs": [
    {
     "data": {
      "text/plain": [
       "235"
      ]
     },
     "execution_count": 42,
     "metadata": {},
     "output_type": "execute_result"
    }
   ],
   "source": [
    "len(train['violation_code'].unique())"
   ]
  },
  {
   "cell_type": "code",
   "execution_count": 36,
   "metadata": {},
   "outputs": [],
   "source": [
    "train2['detroit_address'] = train2['city'].apply(lambda x: create_bool_col(x, 'Detroit'))\n",
    "train2['MI_address'] = train2['state'].apply(lambda x: create_bool_col(x, 'MI'))\n",
    "train2['USA_address'] = train2['country'].apply(lambda x: create_bool_col(x, 'USA'))\n",
    "train2['CAN_address'] = train2['country'].apply(lambda x: create_bool_col(x, 'Cana'))"
   ]
  },
  {
   "cell_type": "code",
   "execution_count": 43,
   "metadata": {},
   "outputs": [],
   "source": [
    "violation_code_dummy = pd.get_dummies(train2['violation_code'])\n",
    "inspector_dummy = pd.get_dummies(train2['inspector_name'])"
   ]
  },
  {
   "cell_type": "code",
   "execution_count": 45,
   "metadata": {},
   "outputs": [
    {
     "data": {
      "text/html": [
       "<div>\n",
       "<style scoped>\n",
       "    .dataframe tbody tr th:only-of-type {\n",
       "        vertical-align: middle;\n",
       "    }\n",
       "\n",
       "    .dataframe tbody tr th {\n",
       "        vertical-align: top;\n",
       "    }\n",
       "\n",
       "    .dataframe thead th {\n",
       "        text-align: right;\n",
       "    }\n",
       "</style>\n",
       "<table border=\"1\" class=\"dataframe\">\n",
       "  <thead>\n",
       "    <tr style=\"text-align: right;\">\n",
       "      <th></th>\n",
       "      <th>detroit_address</th>\n",
       "      <th>MI_address</th>\n",
       "      <th>USA_address</th>\n",
       "      <th>CAN_address</th>\n",
       "      <th>fine_amount</th>\n",
       "      <th>late_fee</th>\n",
       "      <th>compliance</th>\n",
       "      <th>19420901</th>\n",
       "      <th>19450901</th>\n",
       "      <th>19830901</th>\n",
       "      <th>...</th>\n",
       "      <th>Watson, Jerry</th>\n",
       "      <th>Wilcox, Valerie</th>\n",
       "      <th>Wilkins, Rolland W</th>\n",
       "      <th>Williams, Cecila</th>\n",
       "      <th>Williams, Darrin</th>\n",
       "      <th>Williams, Dennis E</th>\n",
       "      <th>Williamson, Lillett</th>\n",
       "      <th>Woodall, Joseph</th>\n",
       "      <th>Zawislak, Norbet</th>\n",
       "      <th>Zizi, Josue</th>\n",
       "    </tr>\n",
       "  </thead>\n",
       "  <tbody>\n",
       "    <tr>\n",
       "      <td>0</td>\n",
       "      <td>0</td>\n",
       "      <td>0</td>\n",
       "      <td>1</td>\n",
       "      <td>0</td>\n",
       "      <td>250.0</td>\n",
       "      <td>25.0</td>\n",
       "      <td>0.0</td>\n",
       "      <td>0</td>\n",
       "      <td>0</td>\n",
       "      <td>0</td>\n",
       "      <td>...</td>\n",
       "      <td>0</td>\n",
       "      <td>0</td>\n",
       "      <td>0</td>\n",
       "      <td>0</td>\n",
       "      <td>0</td>\n",
       "      <td>0</td>\n",
       "      <td>0</td>\n",
       "      <td>0</td>\n",
       "      <td>0</td>\n",
       "      <td>0</td>\n",
       "    </tr>\n",
       "    <tr>\n",
       "      <td>1</td>\n",
       "      <td>1</td>\n",
       "      <td>1</td>\n",
       "      <td>1</td>\n",
       "      <td>0</td>\n",
       "      <td>750.0</td>\n",
       "      <td>75.0</td>\n",
       "      <td>1.0</td>\n",
       "      <td>0</td>\n",
       "      <td>0</td>\n",
       "      <td>0</td>\n",
       "      <td>...</td>\n",
       "      <td>0</td>\n",
       "      <td>0</td>\n",
       "      <td>0</td>\n",
       "      <td>0</td>\n",
       "      <td>1</td>\n",
       "      <td>0</td>\n",
       "      <td>0</td>\n",
       "      <td>0</td>\n",
       "      <td>0</td>\n",
       "      <td>0</td>\n",
       "    </tr>\n",
       "  </tbody>\n",
       "</table>\n",
       "<p>2 rows × 355 columns</p>\n",
       "</div>"
      ],
      "text/plain": [
       "   detroit_address  MI_address  USA_address  CAN_address  fine_amount  \\\n",
       "0                0           0            1            0        250.0   \n",
       "1                1           1            1            0        750.0   \n",
       "\n",
       "   late_fee  compliance  19420901  19450901  19830901  ...  Watson, Jerry  \\\n",
       "0      25.0         0.0         0         0         0  ...              0   \n",
       "1      75.0         1.0         0         0         0  ...              0   \n",
       "\n",
       "   Wilcox, Valerie  Wilkins, Rolland W  Williams, Cecila  Williams, Darrin  \\\n",
       "0                0                   0                 0                 0   \n",
       "1                0                   0                 0                 1   \n",
       "\n",
       "   Williams, Dennis E  Williamson, Lillett  Woodall, Joseph  Zawislak, Norbet  \\\n",
       "0                   0                    0                0                 0   \n",
       "1                   0                    0                0                 0   \n",
       "\n",
       "   Zizi, Josue  \n",
       "0            0  \n",
       "1            0  \n",
       "\n",
       "[2 rows x 355 columns]"
      ]
     },
     "execution_count": 45,
     "metadata": {},
     "output_type": "execute_result"
    }
   ],
   "source": [
    "train3 = train2[['detroit_address', 'MI_address', 'USA_address', 'CAN_address', 'fine_amount', \n",
    "                 'late_fee', 'compliance']].copy()\n",
    "train3 = pd.concat([train3, violation_code_dummy, inspector_dummy], axis=1)\n",
    "train3.head(2)"
   ]
  },
  {
   "cell_type": "code",
   "execution_count": 47,
   "metadata": {},
   "outputs": [
    {
     "data": {
      "image/png": "[encoded data removed]",
      "text/plain": [
       "<Figure size 864x432 with 1 Axes>"
      ]
     },
     "metadata": {
      "needs_background": "light"
     },
     "output_type": "display_data"
    }
   ],
   "source": [
    "plot_null_values(train3, 'Train Set #3 - Null Values')"
   ]
  },
  {
   "cell_type": "markdown",
   "metadata": {},
   "source": [
    "## Baseline Model - Random Forest"
   ]
  },
  {
   "cell_type": "code",
   "execution_count": 48,
   "metadata": {},
   "outputs": [],
   "source": [
    "X3 = train3.drop('compliance', axis=1).values\n",
    "y3 = train3['compliance'].values\n",
    "\n",
    "X3_train, X3_val, y3_train, y3_val = train_test_split(X3, y3, test_size=0.20, random_state=3)"
   ]
  },
  {
   "cell_type": "code",
   "execution_count": 49,
   "metadata": {},
   "outputs": [
    {
     "data": {
      "text/plain": [
       "(159880, 354)"
      ]
     },
     "execution_count": 49,
     "metadata": {},
     "output_type": "execute_result"
    }
   ],
   "source": [
    "X3.shape"
   ]
  },
  {
   "cell_type": "code",
   "execution_count": 52,
   "metadata": {},
   "outputs": [
    {
     "data": {
      "text/plain": [
       "RandomForestClassifier(bootstrap=True, class_weight=None, criterion='gini',\n",
       "                       max_depth=5, max_features=18, max_leaf_nodes=None,\n",
       "                       min_impurity_decrease=0.0, min_impurity_split=None,\n",
       "                       min_samples_leaf=1, min_samples_split=2,\n",
       "                       min_weight_fraction_leaf=0.0, n_estimators=20,\n",
       "                       n_jobs=None, oob_score=False, random_state=3, verbose=0,\n",
       "                       warm_start=False)"
      ]
     },
     "execution_count": 52,
     "metadata": {},
     "output_type": "execute_result"
    }
   ],
   "source": [
    "n_features = int(np.sqrt(X3.shape[1]))\n",
    "forest = RandomForestClassifier(max_depth=5, random_state=3, n_estimators=20, max_features=n_features)\n",
    "forest.fit(X3_train, y3_train)"
   ]
  },
  {
   "cell_type": "code",
   "execution_count": 60,
   "metadata": {},
   "outputs": [
    {
     "name": "stdout",
     "output_type": "stream",
     "text": [
      "Random Forest Baseline AUC Score - Train:  [0.75657488 0.75935432 0.76731423 0.76936297 0.76229192]\n",
      "Random Forest - Baseline - AUC Score - Validation:  0.7686097225729512\n"
     ]
    }
   ],
   "source": [
    "forest_train_auc = cross_val_score(forest, X3_train, y3_train, scoring='roc_auc', cv=5)\n",
    "y3_prob = forest.predict_proba(X3_val)[:,1]\n",
    "y3_auc = roc_auc_score(y3_val, y3_prob)\n",
    "\n",
    "print('Random Forest Baseline AUC Score - Train: ', forest_train_auc)\n",
    "print('Random Forest - Baseline - AUC Score - Validation: ', y3_auc )"
   ]
  },
  {
   "cell_type": "markdown",
   "metadata": {},
   "source": [
    "###  Apply Undersampling"
   ]
  },
  {
   "cell_type": "code",
   "execution_count": 63,
   "metadata": {},
   "outputs": [
    {
     "name": "stdout",
     "output_type": "stream",
     "text": [
      "Random Forest - Random Under - Baseline AUC Score - Train:  [0.74888456 0.77364085 0.76324584 0.77085011 0.75096621]\n",
      "Random Forest - Random Under - Baseline - AUC Score - Validation:  0.7734938158713295\n"
     ]
    }
   ],
   "source": [
    "X3_train_rndm, y3_train_rndm = RandomUnderSampler(random_state=3).fit_resample(X3_train, y3_train)\n",
    "\n",
    "forest = RandomForestClassifier(max_depth=5, random_state=3, n_estimators=20, max_features=n_features)\n",
    "forest.fit(X3_train_rndm, y3_train_rndm)\n",
    "\n",
    "forest_train_auc = cross_val_score(forest, X3_train_rndm, y3_train_rndm, scoring='roc_auc', cv=5)\n",
    "y3_prob = forest.predict_proba(X3_val)[:,1]\n",
    "y3_auc = roc_auc_score(y3_val, y3_prob)\n",
    "\n",
    "print('Random Forest - Random Under - Baseline AUC Score - Train: ', forest_train_auc)\n",
    "print('Random Forest - Random Under - Baseline - AUC Score - Validation: ', y3_auc )"
   ]
  },
  {
   "cell_type": "code",
   "execution_count": 62,
   "metadata": {},
   "outputs": [
    {
     "name": "stdout",
     "output_type": "stream",
     "text": [
      "Random Forest - Tomek Link - Baseline AUC Score - Train:  [0.75719325 0.7743499  0.763076   0.76717014 0.75852529]\n",
      "Random Forest - Tomek Link - Baseline - AUC Score - Validation:  0.7679442960490578\n"
     ]
    }
   ],
   "source": [
    "X3_train_tom, y3_train_tom = TomekLinks(random_state=3).fit_resample(X3_train, y3_train)\n",
    "\n",
    "forest = RandomForestClassifier(max_depth=5, random_state=3, n_estimators=20, max_features=n_features)\n",
    "forest.fit(X3_train_tom, y3_train_tom)\n",
    "\n",
    "forest_train_auc = cross_val_score(forest, X3_train_tom, y3_train_tom, scoring='roc_auc', cv=5)\n",
    "y3_prob = forest.predict_proba(X3_val)[:,1]\n",
    "y3_auc = roc_auc_score(y3_val, y3_prob)\n",
    "\n",
    "print('Random Forest - Tomek Link - Baseline AUC Score - Train: ', forest_train_auc)\n",
    "print('Random Forest - Tomek Link - Baseline - AUC Score - Validation: ', y3_auc )"
   ]
  },
  {
   "cell_type": "markdown",
   "metadata": {},
   "source": [
    "---\n",
    "# EDA"
   ]
  },
  {
   "cell_type": "code",
   "execution_count": 33,
   "metadata": {},
   "outputs": [
    {
     "data": {
      "image/png": "[encoded data removed]",
      "text/plain": [
       "<Figure size 720x360 with 1 Axes>"
      ]
     },
     "metadata": {
      "needs_background": "light"
     },
     "output_type": "display_data"
    }
   ],
   "source": [
    "plt.figure(figsize=(10,5))\n",
    "sns.countplot(x='detroit_address', data=train2, hue='compliance')\n",
    "plt.title('Compliance by City', fontsize=22)\n",
    "plt.legend(['Compliant', 'Non-compliant'])\n",
    "plt.tight_layout();"
   ]
  },
  {
   "cell_type": "code",
   "execution_count": 32,
   "metadata": {},
   "outputs": [
    {
     "data": {
      "image/png": "[encoded data removed]",
      "text/plain": [
       "<Figure size 720x360 with 1 Axes>"
      ]
     },
     "metadata": {
      "needs_background": "light"
     },
     "output_type": "display_data"
    }
   ],
   "source": [
    "plt.figure(figsize=(10,5))\n",
    "sns.countplot(x='MI_address', data=train2, hue='compliance')\n",
    "plt.title('Compliance - Address', fontsize=22)\n",
    "plt.tight_layout();"
   ]
  },
  {
   "cell_type": "code",
   "execution_count": 64,
   "metadata": {},
   "outputs": [
    {
     "data": {
      "image/png": "[encoded data removed]",
      "text/plain": [
       "<Figure size 1440x360 with 1 Axes>"
      ]
     },
     "metadata": {
      "needs_background": "light"
     },
     "output_type": "display_data"
    }
   ],
   "source": [
    "plt.figure(figsize=(20,5))\n",
    "sns.countplot(x='ticket_issued_date', data=train2, hue='compliance')\n",
    "plt.title('Compliance - Address', fontsize=22)\n",
    "plt.tight_layout();"
   ]
  }
 ],
 "metadata": {
  "coursera": {
   "course_slug": "python-machine-learning",
   "graded_item_id": "nNS8l",
   "launcher_item_id": "yWWk7",
   "part_id": "w8BSS"
  },
  "kernelspec": {
   "display_name": "Python 3",
   "language": "python",
   "name": "python3"
  },
  "language_info": {
   "codemirror_mode": {
    "name": "ipython",
    "version": 3
   },
   "file_extension": ".py",
   "mimetype": "text/x-python",
   "name": "python",
   "nbconvert_exporter": "python",
   "pygments_lexer": "ipython3",
   "version": "3.7.3"
  }
 },
 "nbformat": 4,
 "nbformat_minor": 2
}
